{
  "nbformat": 4,
  "nbformat_minor": 0,
  "metadata": {
    "colab": {
      "name": "KNN - Gerando recomendações baseado em um usuário",
      "provenance": [],
      "collapsed_sections": [],
      "authorship_tag": "ABX9TyNiW9asc/HVd1vDU+a8mMXF",
      "include_colab_link": true
    },
    "kernelspec": {
      "name": "python3",
      "display_name": "Python 3"
    }
  },
  "cells": [
    {
      "cell_type": "markdown",
      "metadata": {
        "id": "view-in-github",
        "colab_type": "text"
      },
      "source": [
        "<a href=\"https://colab.research.google.com/github/EduardoMoraesRitter/introducao-a-sistemas-de-recomendacao-com-python/blob/master/KNN_Gerando_recomenda%C3%A7%C3%B5es_baseado_em_um_usu%C3%A1rio.ipynb\" target=\"_parent\"><img src=\"https://colab.research.google.com/assets/colab-badge.svg\" alt=\"Open In Colab\"/></a>"
      ]
    },
    {
      "cell_type": "code",
      "metadata": {
        "id": "7G0OmSKZdYJe",
        "colab_type": "code",
        "colab": {}
      },
      "source": [
        "import pandas as pd\n",
        "\n",
        "filmes = pd.read_csv('movies.csv')\n",
        "notas = pd.read_csv('ratings.csv')\n",
        "\n",
        "filmes.columns = ['filmeId', 'titulo', 'generos']\n",
        "filmes = filmes.set_index('filmeId')\n",
        "notas.columns = ['usuarioId', 'filmeId', 'nota', 'momento']\n",
        "\n",
        "#total de votos\n",
        "filmes['total_de_votos'] = notas['filmeId'].value_counts()\n",
        "\n",
        "#media de nota por filme\n",
        "filmes['notas_medias'] = notas.groupby('filmeId').mean()['nota']"
      ],
      "execution_count": 0,
      "outputs": []
    },
    {
      "cell_type": "code",
      "metadata": {
        "id": "nzLX2VibeL0Y",
        "colab_type": "code",
        "colab": {
          "base_uri": "https://localhost:8080/",
          "height": 225
        },
        "outputId": "c09f4693-a1a3-43e7-d01f-4bdfcd2d56ea"
      },
      "source": [
        "#filtar um usuario, pegar duas coluna, colocar com indice\n",
        "notas_usuario = notas.query('usuarioId==1')\n",
        "notas_usuario = notas_usuario[['filmeId', 'nota']].set_index(\"filmeId\")\n",
        "notas_usuario.head()"
      ],
      "execution_count": 117,
      "outputs": [
        {
          "output_type": "execute_result",
          "data": {
            "text/html": [
              "<div>\n",
              "<style scoped>\n",
              "    .dataframe tbody tr th:only-of-type {\n",
              "        vertical-align: middle;\n",
              "    }\n",
              "\n",
              "    .dataframe tbody tr th {\n",
              "        vertical-align: top;\n",
              "    }\n",
              "\n",
              "    .dataframe thead th {\n",
              "        text-align: right;\n",
              "    }\n",
              "</style>\n",
              "<table border=\"1\" class=\"dataframe\">\n",
              "  <thead>\n",
              "    <tr style=\"text-align: right;\">\n",
              "      <th></th>\n",
              "      <th>nota</th>\n",
              "    </tr>\n",
              "    <tr>\n",
              "      <th>filmeId</th>\n",
              "      <th></th>\n",
              "    </tr>\n",
              "  </thead>\n",
              "  <tbody>\n",
              "    <tr>\n",
              "      <th>1</th>\n",
              "      <td>4.0</td>\n",
              "    </tr>\n",
              "    <tr>\n",
              "      <th>3</th>\n",
              "      <td>4.0</td>\n",
              "    </tr>\n",
              "    <tr>\n",
              "      <th>6</th>\n",
              "      <td>4.0</td>\n",
              "    </tr>\n",
              "    <tr>\n",
              "      <th>47</th>\n",
              "      <td>5.0</td>\n",
              "    </tr>\n",
              "    <tr>\n",
              "      <th>50</th>\n",
              "      <td>5.0</td>\n",
              "    </tr>\n",
              "  </tbody>\n",
              "</table>\n",
              "</div>"
            ],
            "text/plain": [
              "         nota\n",
              "filmeId      \n",
              "1         4.0\n",
              "3         4.0\n",
              "6         4.0\n",
              "47        5.0\n",
              "50        5.0"
            ]
          },
          "metadata": {
            "tags": []
          },
          "execution_count": 117
        }
      ]
    },
    {
      "cell_type": "markdown",
      "metadata": {
        "id": "NMgfHKSvpL4f",
        "colab_type": "text"
      },
      "source": [
        "#Parametros para teste"
      ]
    },
    {
      "cell_type": "code",
      "metadata": {
        "id": "FZfu_SPwrP1T",
        "colab_type": "code",
        "colab": {}
      },
      "source": [
        "def notas_usuario(usuarioId):\n",
        "    notas_usuario = notas.query('usuarioId==%d' % usuarioId)\n",
        "    notas_usuario = notas_usuario[['filmeId', 'nota']].set_index(\"filmeId\")\n",
        "    return notas_usuario"
      ],
      "execution_count": 0,
      "outputs": []
    },
    {
      "cell_type": "code",
      "metadata": {
        "id": "42yHFQGhrBXe",
        "colab_type": "code",
        "colab": {}
      },
      "source": [
        "def distancia_usuarios(uId1,uId2, minimo=5):\n",
        "  u1N = notas_usuario(uId1)\n",
        "  u2N = notas_usuario(uId2)\n",
        "  diferencas = u1N.join(u2N, lsuffix=\"u_esq\", rsuffix=\"u_dir\").dropna()\n",
        "  if(len(diferencas) < minimo):\n",
        "    return None\n",
        "  distancia_usu1_usu2 = distancia_vetor(diferencas['notau_esq'], diferencas['notau_dir'])\n",
        "  return [uId1, uId2, distancia_usu1_usu2]"
      ],
      "execution_count": 0,
      "outputs": []
    },
    {
      "cell_type": "code",
      "metadata": {
        "id": "5QTxcb8Rp-h8",
        "colab_type": "code",
        "colab": {}
      },
      "source": [
        "def distancia_todos(voce, numero_usuario_analizar = None):\n",
        "  todos_usuarios = notas['usuarioId'].unique()\n",
        "  if numero_usuario_analizar:\n",
        "     todos_usuarios = todos_usuarios[:numero_usuario_analizar]\n",
        "  distancias = [distancia_usuarios(voce,usuario_id) for usuario_id in todos_usuarios]\n",
        "  distancias = list(filter(None, distancias))\n",
        "  distancias = pd.DataFrame(distancias, columns = [\"voce\", \"outro\", \"distancia\"])\n",
        "  return distancias"
      ],
      "execution_count": 0,
      "outputs": []
    },
    {
      "cell_type": "code",
      "metadata": {
        "id": "NpJ6Sm_kpOhl",
        "colab_type": "code",
        "colab": {
          "base_uri": "https://localhost:8080/",
          "height": 166
        },
        "outputId": "3f405327-545b-45bd-85ff-01801a582bab"
      },
      "source": [
        "def mais_proxima(voce_id, numero_usuario_analizar = None):\n",
        "  distancias = distancia_todos(voce_id, numero_usuario_analizar=numero_usuario_analizar)\n",
        "  distancias = distancias.sort_values(\"distancia\").set_index(\"outro\").drop(voce_id)\n",
        "  return distancias\n",
        "mais_proxima(1, numero_usuario_analizar=5)"
      ],
      "execution_count": 121,
      "outputs": [
        {
          "output_type": "execute_result",
          "data": {
            "text/html": [
              "<div>\n",
              "<style scoped>\n",
              "    .dataframe tbody tr th:only-of-type {\n",
              "        vertical-align: middle;\n",
              "    }\n",
              "\n",
              "    .dataframe tbody tr th {\n",
              "        vertical-align: top;\n",
              "    }\n",
              "\n",
              "    .dataframe thead th {\n",
              "        text-align: right;\n",
              "    }\n",
              "</style>\n",
              "<table border=\"1\" class=\"dataframe\">\n",
              "  <thead>\n",
              "    <tr style=\"text-align: right;\">\n",
              "      <th></th>\n",
              "      <th>voce</th>\n",
              "      <th>distancia</th>\n",
              "    </tr>\n",
              "    <tr>\n",
              "      <th>outro</th>\n",
              "      <th></th>\n",
              "      <th></th>\n",
              "    </tr>\n",
              "  </thead>\n",
              "  <tbody>\n",
              "    <tr>\n",
              "      <th>5</th>\n",
              "      <td>1</td>\n",
              "      <td>3.741657</td>\n",
              "    </tr>\n",
              "    <tr>\n",
              "      <th>3</th>\n",
              "      <td>1</td>\n",
              "      <td>8.200610</td>\n",
              "    </tr>\n",
              "    <tr>\n",
              "      <th>4</th>\n",
              "      <td>1</td>\n",
              "      <td>11.135529</td>\n",
              "    </tr>\n",
              "  </tbody>\n",
              "</table>\n",
              "</div>"
            ],
            "text/plain": [
              "       voce  distancia\n",
              "outro                 \n",
              "5         1   3.741657\n",
              "3         1   8.200610\n",
              "4         1  11.135529"
            ]
          },
          "metadata": {
            "tags": []
          },
          "execution_count": 121
        }
      ]
    },
    {
      "cell_type": "markdown",
      "metadata": {
        "id": "HgwmAaI_s68d",
        "colab_type": "text"
      },
      "source": [
        "#pegar o usuario mais similar, pegar os filmes que ele assistiu e vc nao "
      ]
    },
    {
      "cell_type": "code",
      "metadata": {
        "id": "IJWcii-srzoy",
        "colab_type": "code",
        "colab": {
          "base_uri": "https://localhost:8080/",
          "height": 225
        },
        "outputId": "5bebf7c6-5676-408b-8014-c2fbe286589e"
      },
      "source": [
        "voce = 1\n",
        "notas_voce = notas_usuario(voce)\n",
        "filmes_voce = notas_voce.index\n",
        "similares = mais_proxima(voce, numero_usuario_analizar=5)\n",
        "#pega a linha iloc, pega o name\n",
        "similar = similares.iloc[0].name\n",
        "notas_similar = notas_usuario(similar)\n",
        "#remover os filmes q vc assistiu da lista, que vc viu q ele nao viu\n",
        "notas_similar = notas_similar.drop(filmes_voce, errors='ignore')\n",
        "notas_similar = notas_similar.sort_values(\"nota\", ascending=False)\n",
        "notas_similar.head()"
      ],
      "execution_count": 122,
      "outputs": [
        {
          "output_type": "execute_result",
          "data": {
            "text/html": [
              "<div>\n",
              "<style scoped>\n",
              "    .dataframe tbody tr th:only-of-type {\n",
              "        vertical-align: middle;\n",
              "    }\n",
              "\n",
              "    .dataframe tbody tr th {\n",
              "        vertical-align: top;\n",
              "    }\n",
              "\n",
              "    .dataframe thead th {\n",
              "        text-align: right;\n",
              "    }\n",
              "</style>\n",
              "<table border=\"1\" class=\"dataframe\">\n",
              "  <thead>\n",
              "    <tr style=\"text-align: right;\">\n",
              "      <th></th>\n",
              "      <th>nota</th>\n",
              "    </tr>\n",
              "    <tr>\n",
              "      <th>filmeId</th>\n",
              "      <th></th>\n",
              "    </tr>\n",
              "  </thead>\n",
              "  <tbody>\n",
              "    <tr>\n",
              "      <th>475</th>\n",
              "      <td>5.0</td>\n",
              "    </tr>\n",
              "    <tr>\n",
              "      <th>595</th>\n",
              "      <td>5.0</td>\n",
              "    </tr>\n",
              "    <tr>\n",
              "      <th>58</th>\n",
              "      <td>5.0</td>\n",
              "    </tr>\n",
              "    <tr>\n",
              "      <th>594</th>\n",
              "      <td>5.0</td>\n",
              "    </tr>\n",
              "    <tr>\n",
              "      <th>290</th>\n",
              "      <td>5.0</td>\n",
              "    </tr>\n",
              "  </tbody>\n",
              "</table>\n",
              "</div>"
            ],
            "text/plain": [
              "         nota\n",
              "filmeId      \n",
              "475       5.0\n",
              "595       5.0\n",
              "58        5.0\n",
              "594       5.0\n",
              "290       5.0"
            ]
          },
          "metadata": {
            "tags": []
          },
          "execution_count": 122
        }
      ]
    },
    {
      "cell_type": "code",
      "metadata": {
        "id": "yt4sY8xfuJzf",
        "colab_type": "code",
        "colab": {}
      },
      "source": [
        "def sugere_para(voce, numero_usuario_analizar=None):\n",
        "  notas_voce = notas_usuario(voce)\n",
        "  filmes_voce = notas_voce.index\n",
        "  similares = mais_proxima(voce, numero_usuario_analizar=numero_usuario_analizar)\n",
        "  similar = similares.iloc[0].name\n",
        "  notas_similar = notas_usuario(similar)\n",
        "  notas_similar = notas_similar.drop(filmes_voce, errors='ignore')\n",
        "  recomendacoes = notas_similar.sort_values(\"nota\", ascending=False)\n",
        "  return recomendacoes.join(filmes)"
      ],
      "execution_count": 0,
      "outputs": []
    },
    {
      "cell_type": "code",
      "metadata": {
        "id": "SQSALlx2v4Kc",
        "colab_type": "code",
        "colab": {
          "base_uri": "https://localhost:8080/",
          "height": 326
        },
        "outputId": "5b5ad6a1-9413-4763-c686-f8b2ebd9fe68"
      },
      "source": [
        "sugere_para(1).head()"
      ],
      "execution_count": 124,
      "outputs": [
        {
          "output_type": "execute_result",
          "data": {
            "text/html": [
              "<div>\n",
              "<style scoped>\n",
              "    .dataframe tbody tr th:only-of-type {\n",
              "        vertical-align: middle;\n",
              "    }\n",
              "\n",
              "    .dataframe tbody tr th {\n",
              "        vertical-align: top;\n",
              "    }\n",
              "\n",
              "    .dataframe thead th {\n",
              "        text-align: right;\n",
              "    }\n",
              "</style>\n",
              "<table border=\"1\" class=\"dataframe\">\n",
              "  <thead>\n",
              "    <tr style=\"text-align: right;\">\n",
              "      <th></th>\n",
              "      <th>nota</th>\n",
              "      <th>titulo</th>\n",
              "      <th>generos</th>\n",
              "      <th>total_de_votos</th>\n",
              "      <th>notas_medias</th>\n",
              "    </tr>\n",
              "    <tr>\n",
              "      <th>filmeId</th>\n",
              "      <th></th>\n",
              "      <th></th>\n",
              "      <th></th>\n",
              "      <th></th>\n",
              "      <th></th>\n",
              "    </tr>\n",
              "  </thead>\n",
              "  <tbody>\n",
              "    <tr>\n",
              "      <th>8636</th>\n",
              "      <td>5.0</td>\n",
              "      <td>Spider-Man 2 (2004)</td>\n",
              "      <td>Action|Adventure|Sci-Fi|IMAX</td>\n",
              "      <td>79.0</td>\n",
              "      <td>3.803797</td>\n",
              "    </tr>\n",
              "    <tr>\n",
              "      <th>58559</th>\n",
              "      <td>5.0</td>\n",
              "      <td>Dark Knight, The (2008)</td>\n",
              "      <td>Action|Crime|Drama|IMAX</td>\n",
              "      <td>149.0</td>\n",
              "      <td>4.238255</td>\n",
              "    </tr>\n",
              "    <tr>\n",
              "      <th>33794</th>\n",
              "      <td>5.0</td>\n",
              "      <td>Batman Begins (2005)</td>\n",
              "      <td>Action|Crime|IMAX</td>\n",
              "      <td>116.0</td>\n",
              "      <td>3.862069</td>\n",
              "    </tr>\n",
              "    <tr>\n",
              "      <th>4993</th>\n",
              "      <td>5.0</td>\n",
              "      <td>Lord of the Rings: The Fellowship of the Ring,...</td>\n",
              "      <td>Adventure|Fantasy</td>\n",
              "      <td>198.0</td>\n",
              "      <td>4.106061</td>\n",
              "    </tr>\n",
              "    <tr>\n",
              "      <th>5349</th>\n",
              "      <td>5.0</td>\n",
              "      <td>Spider-Man (2002)</td>\n",
              "      <td>Action|Adventure|Sci-Fi|Thriller</td>\n",
              "      <td>122.0</td>\n",
              "      <td>3.540984</td>\n",
              "    </tr>\n",
              "  </tbody>\n",
              "</table>\n",
              "</div>"
            ],
            "text/plain": [
              "         nota  ... notas_medias\n",
              "filmeId        ...             \n",
              "8636      5.0  ...     3.803797\n",
              "58559     5.0  ...     4.238255\n",
              "33794     5.0  ...     3.862069\n",
              "4993      5.0  ...     4.106061\n",
              "5349      5.0  ...     3.540984\n",
              "\n",
              "[5 rows x 5 columns]"
            ]
          },
          "metadata": {
            "tags": []
          },
          "execution_count": 124
        }
      ]
    },
    {
      "cell_type": "code",
      "metadata": {
        "id": "SQrbvuo4wAEZ",
        "colab_type": "code",
        "colab": {}
      },
      "source": [
        ""
      ],
      "execution_count": 0,
      "outputs": []
    },
    {
      "cell_type": "markdown",
      "metadata": {
        "id": "fJde14i5yJxd",
        "colab_type": "text"
      },
      "source": [
        "#sugerir baseado em varios usuarios"
      ]
    },
    {
      "cell_type": "code",
      "metadata": {
        "id": "XQB1W8mByOMV",
        "colab_type": "code",
        "colab": {}
      },
      "source": [
        "def mais_proxima(voce_id, n_mais_proximos=10, numero_usuario_analizar = None):\n",
        "  distancias = distancia_todos(voce_id, numero_usuario_analizar=numero_usuario_analizar)\n",
        "  distancias = distancias.sort_values(\"distancia\").set_index(\"outro\").drop(voce_id)\n",
        "  return distancias.head(n_mais_proximos)"
      ],
      "execution_count": 0,
      "outputs": []
    },
    {
      "cell_type": "code",
      "metadata": {
        "id": "6kD5o4-9ywVl",
        "colab_type": "code",
        "colab": {
          "base_uri": "https://localhost:8080/",
          "height": 166
        },
        "outputId": "ead7e8ff-d5ef-4126-d79e-a0ee957d4dbd"
      },
      "source": [
        "mais_proxima(1, 3, 200)"
      ],
      "execution_count": 126,
      "outputs": [
        {
          "output_type": "execute_result",
          "data": {
            "text/html": [
              "<div>\n",
              "<style scoped>\n",
              "    .dataframe tbody tr th:only-of-type {\n",
              "        vertical-align: middle;\n",
              "    }\n",
              "\n",
              "    .dataframe tbody tr th {\n",
              "        vertical-align: top;\n",
              "    }\n",
              "\n",
              "    .dataframe thead th {\n",
              "        text-align: right;\n",
              "    }\n",
              "</style>\n",
              "<table border=\"1\" class=\"dataframe\">\n",
              "  <thead>\n",
              "    <tr style=\"text-align: right;\">\n",
              "      <th></th>\n",
              "      <th>voce</th>\n",
              "      <th>distancia</th>\n",
              "    </tr>\n",
              "    <tr>\n",
              "      <th>outro</th>\n",
              "      <th></th>\n",
              "      <th></th>\n",
              "    </tr>\n",
              "  </thead>\n",
              "  <tbody>\n",
              "    <tr>\n",
              "      <th>77</th>\n",
              "      <td>1</td>\n",
              "      <td>0.0</td>\n",
              "    </tr>\n",
              "    <tr>\n",
              "      <th>49</th>\n",
              "      <td>1</td>\n",
              "      <td>1.0</td>\n",
              "    </tr>\n",
              "    <tr>\n",
              "      <th>9</th>\n",
              "      <td>1</td>\n",
              "      <td>1.0</td>\n",
              "    </tr>\n",
              "  </tbody>\n",
              "</table>\n",
              "</div>"
            ],
            "text/plain": [
              "       voce  distancia\n",
              "outro                 \n",
              "77        1        0.0\n",
              "49        1        1.0\n",
              "9         1        1.0"
            ]
          },
          "metadata": {
            "tags": []
          },
          "execution_count": 126
        }
      ]
    },
    {
      "cell_type": "code",
      "metadata": {
        "id": "v1Vlin_Qy887",
        "colab_type": "code",
        "colab": {
          "base_uri": "https://localhost:8080/",
          "height": 309
        },
        "outputId": "262dc5a0-be36-42eb-9f06-9fa698cfa1e5"
      },
      "source": [
        "voce = 1\n",
        "n_mais_proximos = 10\n",
        "numero_usuario_analizar = 200\n",
        "\n",
        "notas_voce = notas_usuario(voce)\n",
        "filmes_voce = notas_voce.index\n",
        "\n",
        "similares = mais_proxima(voce, n_mais_proximos=n_mais_proximos, numero_usuario_analizar=numero_usuario_analizar)\n",
        "usuarios_similares = similares.index\n",
        "#pega a nota de todos esse usuario\n",
        "#notas.query('usuarios in [4,6]') muito ruim\n",
        "#nao tem problema do index esta repetido\n",
        "notas_similares = notas.set_index(\"usuarioId\").loc[usuarios_similares]\n",
        "\n",
        "#fazer uma media dentre as notas, retorna um serie\n",
        "notas_similares.groupby(\"filmeId\").mean()[\"nota\"]\n",
        "\n",
        "#retona com [] transforma para dataframe\n",
        "recomendacoes = notas_similares.groupby(\"filmeId\").mean()[[\"nota\"]]\n",
        "recomendacoes = recomendacoes.sort_values(\"nota\", ascending=False)\n",
        "\n",
        "#junta com os filmes\n",
        "recomendacoes.join(filmes).head()\n",
        "\n",
        "#antes\n",
        "# similar = similares.iloc[0].name\n",
        "# notas_similar = notas_usuario(similar)\n",
        "# notas_similar = notas_similar.drop(filmes_voce, errors='ignore')\n",
        "# notas_similar = notas_similar.sort_values(\"nota\", ascending=False)\n",
        "# notas_similar.head()"
      ],
      "execution_count": 128,
      "outputs": [
        {
          "output_type": "execute_result",
          "data": {
            "text/html": [
              "<div>\n",
              "<style scoped>\n",
              "    .dataframe tbody tr th:only-of-type {\n",
              "        vertical-align: middle;\n",
              "    }\n",
              "\n",
              "    .dataframe tbody tr th {\n",
              "        vertical-align: top;\n",
              "    }\n",
              "\n",
              "    .dataframe thead th {\n",
              "        text-align: right;\n",
              "    }\n",
              "</style>\n",
              "<table border=\"1\" class=\"dataframe\">\n",
              "  <thead>\n",
              "    <tr style=\"text-align: right;\">\n",
              "      <th></th>\n",
              "      <th>nota</th>\n",
              "      <th>titulo</th>\n",
              "      <th>generos</th>\n",
              "      <th>total_de_votos</th>\n",
              "      <th>notas_medias</th>\n",
              "    </tr>\n",
              "    <tr>\n",
              "      <th>filmeId</th>\n",
              "      <th></th>\n",
              "      <th></th>\n",
              "      <th></th>\n",
              "      <th></th>\n",
              "      <th></th>\n",
              "    </tr>\n",
              "  </thead>\n",
              "  <tbody>\n",
              "    <tr>\n",
              "      <th>187593</th>\n",
              "      <td>5.0</td>\n",
              "      <td>Deadpool 2 (2018)</td>\n",
              "      <td>Action|Comedy|Sci-Fi</td>\n",
              "      <td>12.0</td>\n",
              "      <td>3.875000</td>\n",
              "    </tr>\n",
              "    <tr>\n",
              "      <th>3996</th>\n",
              "      <td>5.0</td>\n",
              "      <td>Crouching Tiger, Hidden Dragon (Wo hu cang lon...</td>\n",
              "      <td>Action|Drama|Romance</td>\n",
              "      <td>110.0</td>\n",
              "      <td>3.836364</td>\n",
              "    </tr>\n",
              "    <tr>\n",
              "      <th>5349</th>\n",
              "      <td>5.0</td>\n",
              "      <td>Spider-Man (2002)</td>\n",
              "      <td>Action|Adventure|Sci-Fi|Thriller</td>\n",
              "      <td>122.0</td>\n",
              "      <td>3.540984</td>\n",
              "    </tr>\n",
              "    <tr>\n",
              "      <th>613</th>\n",
              "      <td>5.0</td>\n",
              "      <td>Jane Eyre (1996)</td>\n",
              "      <td>Drama|Romance</td>\n",
              "      <td>8.0</td>\n",
              "      <td>3.187500</td>\n",
              "    </tr>\n",
              "    <tr>\n",
              "      <th>608</th>\n",
              "      <td>5.0</td>\n",
              "      <td>Fargo (1996)</td>\n",
              "      <td>Comedy|Crime|Drama|Thriller</td>\n",
              "      <td>181.0</td>\n",
              "      <td>4.116022</td>\n",
              "    </tr>\n",
              "  </tbody>\n",
              "</table>\n",
              "</div>"
            ],
            "text/plain": [
              "         nota  ... notas_medias\n",
              "filmeId        ...             \n",
              "187593    5.0  ...     3.875000\n",
              "3996      5.0  ...     3.836364\n",
              "5349      5.0  ...     3.540984\n",
              "613       5.0  ...     3.187500\n",
              "608       5.0  ...     4.116022\n",
              "\n",
              "[5 rows x 5 columns]"
            ]
          },
          "metadata": {
            "tags": []
          },
          "execution_count": 128
        }
      ]
    },
    {
      "cell_type": "code",
      "metadata": {
        "id": "SD2lMsGizlY1",
        "colab_type": "code",
        "colab": {}
      },
      "source": [
        "def knn(voce, k_mais_proximos = 10, numero_usuario_analizar = None):\n",
        "  notas_voce = notas_usuario(voce)\n",
        "  filmes_voce = notas_voce.index\n",
        "\n",
        "  similares = mais_proxima(voce, n_mais_proximos=k_mais_proximos, numero_usuario_analizar=numero_usuario_analizar)\n",
        "  usuarios_similares = similares.index\n",
        "  notas_similares = notas.set_index(\"usuarioId\").loc[usuarios_similares]\n",
        "  recomendacoes = notas_similares.groupby(\"filmeId\").mean()[[\"nota\"]]\n",
        "  recomendacoes = recomendacoes.sort_values(\"nota\", ascending=False)\n",
        "  return recomendacoes.join(filmes)"
      ],
      "execution_count": 0,
      "outputs": []
    },
    {
      "cell_type": "code",
      "metadata": {
        "id": "H85nitkK4p5i",
        "colab_type": "code",
        "colab": {
          "base_uri": "https://localhost:8080/",
          "height": 376
        },
        "outputId": "5d7d864b-9fcf-4b31-a777-a5e8802ffdd0"
      },
      "source": [
        "knn(1, 10, 50).head()"
      ],
      "execution_count": 135,
      "outputs": [
        {
          "output_type": "execute_result",
          "data": {
            "text/html": [
              "<div>\n",
              "<style scoped>\n",
              "    .dataframe tbody tr th:only-of-type {\n",
              "        vertical-align: middle;\n",
              "    }\n",
              "\n",
              "    .dataframe tbody tr th {\n",
              "        vertical-align: top;\n",
              "    }\n",
              "\n",
              "    .dataframe thead th {\n",
              "        text-align: right;\n",
              "    }\n",
              "</style>\n",
              "<table border=\"1\" class=\"dataframe\">\n",
              "  <thead>\n",
              "    <tr style=\"text-align: right;\">\n",
              "      <th></th>\n",
              "      <th>nota</th>\n",
              "      <th>titulo</th>\n",
              "      <th>generos</th>\n",
              "      <th>total_de_votos</th>\n",
              "      <th>notas_medias</th>\n",
              "    </tr>\n",
              "    <tr>\n",
              "      <th>filmeId</th>\n",
              "      <th></th>\n",
              "      <th></th>\n",
              "      <th></th>\n",
              "      <th></th>\n",
              "      <th></th>\n",
              "    </tr>\n",
              "  </thead>\n",
              "  <tbody>\n",
              "    <tr>\n",
              "      <th>187593</th>\n",
              "      <td>5.0</td>\n",
              "      <td>Deadpool 2 (2018)</td>\n",
              "      <td>Action|Comedy|Sci-Fi</td>\n",
              "      <td>12.0</td>\n",
              "      <td>3.875000</td>\n",
              "    </tr>\n",
              "    <tr>\n",
              "      <th>68157</th>\n",
              "      <td>5.0</td>\n",
              "      <td>Inglourious Basterds (2009)</td>\n",
              "      <td>Action|Drama|War</td>\n",
              "      <td>88.0</td>\n",
              "      <td>4.136364</td>\n",
              "    </tr>\n",
              "    <tr>\n",
              "      <th>475</th>\n",
              "      <td>5.0</td>\n",
              "      <td>In the Name of the Father (1993)</td>\n",
              "      <td>Drama</td>\n",
              "      <td>25.0</td>\n",
              "      <td>4.300000</td>\n",
              "    </tr>\n",
              "    <tr>\n",
              "      <th>33794</th>\n",
              "      <td>5.0</td>\n",
              "      <td>Batman Begins (2005)</td>\n",
              "      <td>Action|Crime|IMAX</td>\n",
              "      <td>116.0</td>\n",
              "      <td>3.862069</td>\n",
              "    </tr>\n",
              "    <tr>\n",
              "      <th>7153</th>\n",
              "      <td>5.0</td>\n",
              "      <td>Lord of the Rings: The Return of the King, The...</td>\n",
              "      <td>Action|Adventure|Drama|Fantasy</td>\n",
              "      <td>185.0</td>\n",
              "      <td>4.118919</td>\n",
              "    </tr>\n",
              "  </tbody>\n",
              "</table>\n",
              "</div>"
            ],
            "text/plain": [
              "         nota  ... notas_medias\n",
              "filmeId        ...             \n",
              "187593    5.0  ...     3.875000\n",
              "68157     5.0  ...     4.136364\n",
              "475       5.0  ...     4.300000\n",
              "33794     5.0  ...     3.862069\n",
              "7153      5.0  ...     4.118919\n",
              "\n",
              "[5 rows x 5 columns]"
            ]
          },
          "metadata": {
            "tags": []
          },
          "execution_count": 135
        }
      ]
    },
    {
      "cell_type": "code",
      "metadata": {
        "id": "QV3lhHzW4y_Y",
        "colab_type": "code",
        "colab": {
          "base_uri": "https://localhost:8080/",
          "height": 530
        },
        "outputId": "09b64965-e6ab-4880-9df6-402b7467d5c3"
      },
      "source": [
        "knn(1).head()"
      ],
      "execution_count": 136,
      "outputs": [
        {
          "output_type": "execute_result",
          "data": {
            "text/html": [
              "<div>\n",
              "<style scoped>\n",
              "    .dataframe tbody tr th:only-of-type {\n",
              "        vertical-align: middle;\n",
              "    }\n",
              "\n",
              "    .dataframe tbody tr th {\n",
              "        vertical-align: top;\n",
              "    }\n",
              "\n",
              "    .dataframe thead th {\n",
              "        text-align: right;\n",
              "    }\n",
              "</style>\n",
              "<table border=\"1\" class=\"dataframe\">\n",
              "  <thead>\n",
              "    <tr style=\"text-align: right;\">\n",
              "      <th></th>\n",
              "      <th>nota</th>\n",
              "      <th>titulo</th>\n",
              "      <th>generos</th>\n",
              "      <th>total_de_votos</th>\n",
              "      <th>notas_medias</th>\n",
              "    </tr>\n",
              "    <tr>\n",
              "      <th>filmeId</th>\n",
              "      <th></th>\n",
              "      <th></th>\n",
              "      <th></th>\n",
              "      <th></th>\n",
              "      <th></th>\n",
              "    </tr>\n",
              "  </thead>\n",
              "  <tbody>\n",
              "    <tr>\n",
              "      <th>1704</th>\n",
              "      <td>5.0</td>\n",
              "      <td>Good Will Hunting (1997)</td>\n",
              "      <td>Drama|Romance</td>\n",
              "      <td>141.0</td>\n",
              "      <td>4.078014</td>\n",
              "    </tr>\n",
              "    <tr>\n",
              "      <th>57504</th>\n",
              "      <td>5.0</td>\n",
              "      <td>Girl Who Leapt Through Time, The (Toki o kaker...</td>\n",
              "      <td>Animation|Comedy|Drama|Romance|Sci-Fi</td>\n",
              "      <td>10.0</td>\n",
              "      <td>4.100000</td>\n",
              "    </tr>\n",
              "    <tr>\n",
              "      <th>38304</th>\n",
              "      <td>5.0</td>\n",
              "      <td>No Direction Home: Bob Dylan (2005)</td>\n",
              "      <td>Documentary</td>\n",
              "      <td>4.0</td>\n",
              "      <td>4.625000</td>\n",
              "    </tr>\n",
              "    <tr>\n",
              "      <th>48394</th>\n",
              "      <td>5.0</td>\n",
              "      <td>Pan's Labyrinth (Laberinto del fauno, El) (2006)</td>\n",
              "      <td>Drama|Fantasy|Thriller</td>\n",
              "      <td>81.0</td>\n",
              "      <td>3.814815</td>\n",
              "    </tr>\n",
              "    <tr>\n",
              "      <th>2300</th>\n",
              "      <td>5.0</td>\n",
              "      <td>Producers, The (1968)</td>\n",
              "      <td>Comedy</td>\n",
              "      <td>33.0</td>\n",
              "      <td>3.969697</td>\n",
              "    </tr>\n",
              "  </tbody>\n",
              "</table>\n",
              "</div>"
            ],
            "text/plain": [
              "         nota  ... notas_medias\n",
              "filmeId        ...             \n",
              "1704      5.0  ...     4.078014\n",
              "57504     5.0  ...     4.100000\n",
              "38304     5.0  ...     4.625000\n",
              "48394     5.0  ...     3.814815\n",
              "2300      5.0  ...     3.969697\n",
              "\n",
              "[5 rows x 5 columns]"
            ]
          },
          "metadata": {
            "tags": []
          },
          "execution_count": 136
        }
      ]
    },
    {
      "cell_type": "code",
      "metadata": {
        "id": "QGdxOlMk7yoR",
        "colab_type": "code",
        "colab": {
          "base_uri": "https://localhost:8080/",
          "height": 309
        },
        "outputId": "4701148f-4021-434b-ef64-528b7e7e13b8"
      },
      "source": [
        "knn(1).tail()"
      ],
      "execution_count": 137,
      "outputs": [
        {
          "output_type": "execute_result",
          "data": {
            "text/html": [
              "<div>\n",
              "<style scoped>\n",
              "    .dataframe tbody tr th:only-of-type {\n",
              "        vertical-align: middle;\n",
              "    }\n",
              "\n",
              "    .dataframe tbody tr th {\n",
              "        vertical-align: top;\n",
              "    }\n",
              "\n",
              "    .dataframe thead th {\n",
              "        text-align: right;\n",
              "    }\n",
              "</style>\n",
              "<table border=\"1\" class=\"dataframe\">\n",
              "  <thead>\n",
              "    <tr style=\"text-align: right;\">\n",
              "      <th></th>\n",
              "      <th>nota</th>\n",
              "      <th>titulo</th>\n",
              "      <th>generos</th>\n",
              "      <th>total_de_votos</th>\n",
              "      <th>notas_medias</th>\n",
              "    </tr>\n",
              "    <tr>\n",
              "      <th>filmeId</th>\n",
              "      <th></th>\n",
              "      <th></th>\n",
              "      <th></th>\n",
              "      <th></th>\n",
              "      <th></th>\n",
              "    </tr>\n",
              "  </thead>\n",
              "  <tbody>\n",
              "    <tr>\n",
              "      <th>5507</th>\n",
              "      <td>1.0</td>\n",
              "      <td>xXx (2002)</td>\n",
              "      <td>Action|Crime|Thriller</td>\n",
              "      <td>24.0</td>\n",
              "      <td>2.770833</td>\n",
              "    </tr>\n",
              "    <tr>\n",
              "      <th>4131</th>\n",
              "      <td>1.0</td>\n",
              "      <td>Making Mr. Right (1987)</td>\n",
              "      <td>Comedy|Romance|Sci-Fi</td>\n",
              "      <td>3.0</td>\n",
              "      <td>1.833333</td>\n",
              "    </tr>\n",
              "    <tr>\n",
              "      <th>5891</th>\n",
              "      <td>1.0</td>\n",
              "      <td>I Spit on Your Grave (Day of the Woman) (1978)</td>\n",
              "      <td>Horror|Thriller</td>\n",
              "      <td>4.0</td>\n",
              "      <td>2.625000</td>\n",
              "    </tr>\n",
              "    <tr>\n",
              "      <th>5962</th>\n",
              "      <td>1.0</td>\n",
              "      <td>Body of Evidence (1993)</td>\n",
              "      <td>Drama|Thriller</td>\n",
              "      <td>1.0</td>\n",
              "      <td>1.000000</td>\n",
              "    </tr>\n",
              "    <tr>\n",
              "      <th>87232</th>\n",
              "      <td>0.5</td>\n",
              "      <td>X-Men: First Class (2011)</td>\n",
              "      <td>Action|Adventure|Sci-Fi|Thriller|War</td>\n",
              "      <td>43.0</td>\n",
              "      <td>3.790698</td>\n",
              "    </tr>\n",
              "  </tbody>\n",
              "</table>\n",
              "</div>"
            ],
            "text/plain": [
              "         nota  ... notas_medias\n",
              "filmeId        ...             \n",
              "5507      1.0  ...     2.770833\n",
              "4131      1.0  ...     1.833333\n",
              "5891      1.0  ...     2.625000\n",
              "5962      1.0  ...     1.000000\n",
              "87232     0.5  ...     3.790698\n",
              "\n",
              "[5 rows x 5 columns]"
            ]
          },
          "metadata": {
            "tags": []
          },
          "execution_count": 137
        }
      ]
    },
    {
      "cell_type": "code",
      "metadata": {
        "id": "qOD3NLLW705S",
        "colab_type": "code",
        "colab": {}
      },
      "source": [
        ""
      ],
      "execution_count": 0,
      "outputs": []
    },
    {
      "cell_type": "markdown",
      "metadata": {
        "id": "Scaev1kZ8GLt",
        "colab_type": "text"
      },
      "source": [
        "#Notas de filmes com mais de 50 notas\n"
      ]
    },
    {
      "cell_type": "code",
      "metadata": {
        "id": "2q26Yn-x8KF8",
        "colab_type": "code",
        "colab": {
          "base_uri": "https://localhost:8080/",
          "height": 225
        },
        "outputId": "19425ebe-a6db-4d7a-f2ec-0d32f5200aee"
      },
      "source": [
        "filmes_mais_50_votos = filmes.query(\"total_de_votos >= 50\")\n",
        "filmes_mais_50_votos.index\n",
        "#colocar as nota para index ser o filme, localiza so os mais de 50 votos\n",
        "notas = notas.set_index(\"filmeId\").loc[filmes_mais_50_votos.index]\n",
        "\n",
        "notas.head()"
      ],
      "execution_count": 140,
      "outputs": [
        {
          "output_type": "execute_result",
          "data": {
            "text/html": [
              "<div>\n",
              "<style scoped>\n",
              "    .dataframe tbody tr th:only-of-type {\n",
              "        vertical-align: middle;\n",
              "    }\n",
              "\n",
              "    .dataframe tbody tr th {\n",
              "        vertical-align: top;\n",
              "    }\n",
              "\n",
              "    .dataframe thead th {\n",
              "        text-align: right;\n",
              "    }\n",
              "</style>\n",
              "<table border=\"1\" class=\"dataframe\">\n",
              "  <thead>\n",
              "    <tr style=\"text-align: right;\">\n",
              "      <th></th>\n",
              "      <th>usuarioId</th>\n",
              "      <th>nota</th>\n",
              "      <th>momento</th>\n",
              "    </tr>\n",
              "    <tr>\n",
              "      <th>filmeId</th>\n",
              "      <th></th>\n",
              "      <th></th>\n",
              "      <th></th>\n",
              "    </tr>\n",
              "  </thead>\n",
              "  <tbody>\n",
              "    <tr>\n",
              "      <th>1</th>\n",
              "      <td>1</td>\n",
              "      <td>4.0</td>\n",
              "      <td>964982703</td>\n",
              "    </tr>\n",
              "    <tr>\n",
              "      <th>1</th>\n",
              "      <td>5</td>\n",
              "      <td>4.0</td>\n",
              "      <td>847434962</td>\n",
              "    </tr>\n",
              "    <tr>\n",
              "      <th>1</th>\n",
              "      <td>7</td>\n",
              "      <td>4.5</td>\n",
              "      <td>1106635946</td>\n",
              "    </tr>\n",
              "    <tr>\n",
              "      <th>1</th>\n",
              "      <td>15</td>\n",
              "      <td>2.5</td>\n",
              "      <td>1510577970</td>\n",
              "    </tr>\n",
              "    <tr>\n",
              "      <th>1</th>\n",
              "      <td>17</td>\n",
              "      <td>4.5</td>\n",
              "      <td>1305696483</td>\n",
              "    </tr>\n",
              "  </tbody>\n",
              "</table>\n",
              "</div>"
            ],
            "text/plain": [
              "         usuarioId  nota     momento\n",
              "filmeId                             \n",
              "1                1   4.0   964982703\n",
              "1                5   4.0   847434962\n",
              "1                7   4.5  1106635946\n",
              "1               15   2.5  1510577970\n",
              "1               17   4.5  1305696483"
            ]
          },
          "metadata": {
            "tags": []
          },
          "execution_count": 140
        }
      ]
    },
    {
      "cell_type": "code",
      "metadata": {
        "id": "8YZVIIkt9HHn",
        "colab_type": "code",
        "colab": {
          "base_uri": "https://localhost:8080/",
          "height": 195
        },
        "outputId": "4b617139-768a-44b7-a935-19119a980e27"
      },
      "source": [
        "#precisa voltar o index original, para qunado tentar acessa a coluna filmeID nao da\n",
        "notas = notas.reset_index()\n",
        "notas.head()"
      ],
      "execution_count": 141,
      "outputs": [
        {
          "output_type": "execute_result",
          "data": {
            "text/html": [
              "<div>\n",
              "<style scoped>\n",
              "    .dataframe tbody tr th:only-of-type {\n",
              "        vertical-align: middle;\n",
              "    }\n",
              "\n",
              "    .dataframe tbody tr th {\n",
              "        vertical-align: top;\n",
              "    }\n",
              "\n",
              "    .dataframe thead th {\n",
              "        text-align: right;\n",
              "    }\n",
              "</style>\n",
              "<table border=\"1\" class=\"dataframe\">\n",
              "  <thead>\n",
              "    <tr style=\"text-align: right;\">\n",
              "      <th></th>\n",
              "      <th>filmeId</th>\n",
              "      <th>usuarioId</th>\n",
              "      <th>nota</th>\n",
              "      <th>momento</th>\n",
              "    </tr>\n",
              "  </thead>\n",
              "  <tbody>\n",
              "    <tr>\n",
              "      <th>0</th>\n",
              "      <td>1</td>\n",
              "      <td>1</td>\n",
              "      <td>4.0</td>\n",
              "      <td>964982703</td>\n",
              "    </tr>\n",
              "    <tr>\n",
              "      <th>1</th>\n",
              "      <td>1</td>\n",
              "      <td>5</td>\n",
              "      <td>4.0</td>\n",
              "      <td>847434962</td>\n",
              "    </tr>\n",
              "    <tr>\n",
              "      <th>2</th>\n",
              "      <td>1</td>\n",
              "      <td>7</td>\n",
              "      <td>4.5</td>\n",
              "      <td>1106635946</td>\n",
              "    </tr>\n",
              "    <tr>\n",
              "      <th>3</th>\n",
              "      <td>1</td>\n",
              "      <td>15</td>\n",
              "      <td>2.5</td>\n",
              "      <td>1510577970</td>\n",
              "    </tr>\n",
              "    <tr>\n",
              "      <th>4</th>\n",
              "      <td>1</td>\n",
              "      <td>17</td>\n",
              "      <td>4.5</td>\n",
              "      <td>1305696483</td>\n",
              "    </tr>\n",
              "  </tbody>\n",
              "</table>\n",
              "</div>"
            ],
            "text/plain": [
              "   filmeId  usuarioId  nota     momento\n",
              "0        1          1   4.0   964982703\n",
              "1        1          5   4.0   847434962\n",
              "2        1          7   4.5  1106635946\n",
              "3        1         15   2.5  1510577970\n",
              "4        1         17   4.5  1305696483"
            ]
          },
          "metadata": {
            "tags": []
          },
          "execution_count": 141
        }
      ]
    },
    {
      "cell_type": "code",
      "metadata": {
        "id": "HA-XQos1-FzX",
        "colab_type": "code",
        "colab": {
          "base_uri": "https://localhost:8080/",
          "height": 581
        },
        "outputId": "3ac26a13-99c0-4818-b694-8f2d64f9d5f9"
      },
      "source": [
        "knn(1).head()"
      ],
      "execution_count": 142,
      "outputs": [
        {
          "output_type": "execute_result",
          "data": {
            "text/html": [
              "<div>\n",
              "<style scoped>\n",
              "    .dataframe tbody tr th:only-of-type {\n",
              "        vertical-align: middle;\n",
              "    }\n",
              "\n",
              "    .dataframe tbody tr th {\n",
              "        vertical-align: top;\n",
              "    }\n",
              "\n",
              "    .dataframe thead th {\n",
              "        text-align: right;\n",
              "    }\n",
              "</style>\n",
              "<table border=\"1\" class=\"dataframe\">\n",
              "  <thead>\n",
              "    <tr style=\"text-align: right;\">\n",
              "      <th></th>\n",
              "      <th>nota</th>\n",
              "      <th>titulo</th>\n",
              "      <th>generos</th>\n",
              "      <th>total_de_votos</th>\n",
              "      <th>notas_medias</th>\n",
              "    </tr>\n",
              "    <tr>\n",
              "      <th>filmeId</th>\n",
              "      <th></th>\n",
              "      <th></th>\n",
              "      <th></th>\n",
              "      <th></th>\n",
              "      <th></th>\n",
              "    </tr>\n",
              "  </thead>\n",
              "  <tbody>\n",
              "    <tr>\n",
              "      <th>56174</th>\n",
              "      <td>5.0</td>\n",
              "      <td>I Am Legend (2007)</td>\n",
              "      <td>Action|Horror|Sci-Fi|Thriller|IMAX</td>\n",
              "      <td>62.0</td>\n",
              "      <td>3.483871</td>\n",
              "    </tr>\n",
              "    <tr>\n",
              "      <th>48394</th>\n",
              "      <td>5.0</td>\n",
              "      <td>Pan's Labyrinth (Laberinto del fauno, El) (2006)</td>\n",
              "      <td>Drama|Fantasy|Thriller</td>\n",
              "      <td>81.0</td>\n",
              "      <td>3.814815</td>\n",
              "    </tr>\n",
              "    <tr>\n",
              "      <th>1196</th>\n",
              "      <td>5.0</td>\n",
              "      <td>Star Wars: Episode V - The Empire Strikes Back...</td>\n",
              "      <td>Action|Adventure|Sci-Fi</td>\n",
              "      <td>211.0</td>\n",
              "      <td>4.215640</td>\n",
              "    </tr>\n",
              "    <tr>\n",
              "      <th>1197</th>\n",
              "      <td>5.0</td>\n",
              "      <td>Princess Bride, The (1987)</td>\n",
              "      <td>Action|Adventure|Comedy|Fantasy|Romance</td>\n",
              "      <td>142.0</td>\n",
              "      <td>4.232394</td>\n",
              "    </tr>\n",
              "    <tr>\n",
              "      <th>1198</th>\n",
              "      <td>5.0</td>\n",
              "      <td>Raiders of the Lost Ark (Indiana Jones and the...</td>\n",
              "      <td>Action|Adventure</td>\n",
              "      <td>200.0</td>\n",
              "      <td>4.207500</td>\n",
              "    </tr>\n",
              "  </tbody>\n",
              "</table>\n",
              "</div>"
            ],
            "text/plain": [
              "         nota  ... notas_medias\n",
              "filmeId        ...             \n",
              "56174     5.0  ...     3.483871\n",
              "48394     5.0  ...     3.814815\n",
              "1196      5.0  ...     4.215640\n",
              "1197      5.0  ...     4.232394\n",
              "1198      5.0  ...     4.207500\n",
              "\n",
              "[5 rows x 5 columns]"
            ]
          },
          "metadata": {
            "tags": []
          },
          "execution_count": 142
        }
      ]
    },
    {
      "cell_type": "code",
      "metadata": {
        "id": "NrZvt2q8ATGV",
        "colab_type": "code",
        "colab": {}
      },
      "source": [
        "#cuidado com o drop pq ele pode nao estar la usar o errors='ignore'\n",
        "def mais_proxima(voce_id, n_mais_proximos=10, numero_usuario_analizar = None):\n",
        "  distancias = distancia_todos(voce_id, numero_usuario_analizar=numero_usuario_analizar)\n",
        "  distancias = distancias.sort_values(\"distancia\").set_index(\"outro\").drop(voce_id, errors='ignore')\n",
        "  return distancias.head(n_mais_proximos)"
      ],
      "execution_count": 0,
      "outputs": []
    },
    {
      "cell_type": "code",
      "metadata": {
        "id": "GeArXnZo-Ke5",
        "colab_type": "code",
        "colab": {}
      },
      "source": [
        "#tirar os filmes que tem pouco votos dentro da pessoas que sao semelhantes a mim\n",
        "def knn(voce_id, k_mais_proximos = 10, numero_usuario_analizar = None):\n",
        "  notas_voce = notas_usuario(voce_id)\n",
        "  filmes_voce = notas_voce.index\n",
        "\n",
        "  similares = mais_proxima(voce_id, n_mais_proximos=k_mais_proximos, numero_usuario_analizar=numero_usuario_analizar)\n",
        "  usuarios_similares = similares.index\n",
        "  notas_similares = notas.set_index(\"usuarioId\").loc[usuarios_similares]\n",
        "  recomendacoes = notas_similares.groupby(\"filmeId\").mean()[[\"nota\"]]\n",
        "  \n",
        "  aparicoes = notas_similares.groupby(\"filmeId\").count()[['nota']]\n",
        "  filtro_minimo = k_mais_proximos / 2\n",
        "  recomendacoes = recomendacoes.join(aparicoes, lsuffix='_media_usuarios', rsuffix='_qtd_votos_usuarios')\n",
        "  recomendacoes = recomendacoes.query(\"nota_qtd_votos_usuarios >= %.2f\" % filtro_minimo)\n",
        "  recomendacoes = recomendacoes.sort_values(\"nota_media_usuarios\", ascending=False)\n",
        "\n",
        "  recomendacoes = recomendacoes.drop(filmes_voce, errors='ignore')\n",
        "\n",
        "  return recomendacoes.join(filmes)"
      ],
      "execution_count": 0,
      "outputs": []
    },
    {
      "cell_type": "code",
      "metadata": {
        "id": "W2va1Xdy_5ln",
        "colab_type": "code",
        "colab": {
          "base_uri": "https://localhost:8080/",
          "height": 446
        },
        "outputId": "6af539e3-f1d4-4bdf-aea3-9e4d7415ae8f"
      },
      "source": [
        "knn(1).head()"
      ],
      "execution_count": 182,
      "outputs": [
        {
          "output_type": "execute_result",
          "data": {
            "text/html": [
              "<div>\n",
              "<style scoped>\n",
              "    .dataframe tbody tr th:only-of-type {\n",
              "        vertical-align: middle;\n",
              "    }\n",
              "\n",
              "    .dataframe tbody tr th {\n",
              "        vertical-align: top;\n",
              "    }\n",
              "\n",
              "    .dataframe thead th {\n",
              "        text-align: right;\n",
              "    }\n",
              "</style>\n",
              "<table border=\"1\" class=\"dataframe\">\n",
              "  <thead>\n",
              "    <tr style=\"text-align: right;\">\n",
              "      <th></th>\n",
              "      <th>nota_media_usuarios</th>\n",
              "      <th>nota_qtd_votos_usuarios</th>\n",
              "      <th>titulo</th>\n",
              "      <th>generos</th>\n",
              "      <th>total_de_votos</th>\n",
              "      <th>notas_medias</th>\n",
              "    </tr>\n",
              "    <tr>\n",
              "      <th>filmeId</th>\n",
              "      <th></th>\n",
              "      <th></th>\n",
              "      <th></th>\n",
              "      <th></th>\n",
              "      <th></th>\n",
              "      <th></th>\n",
              "    </tr>\n",
              "  </thead>\n",
              "  <tbody>\n",
              "    <tr>\n",
              "      <th>7153</th>\n",
              "      <td>4.750000</td>\n",
              "      <td>6</td>\n",
              "      <td>Lord of the Rings: The Return of the King, The...</td>\n",
              "      <td>Action|Adventure|Drama|Fantasy</td>\n",
              "      <td>185.0</td>\n",
              "      <td>4.118919</td>\n",
              "    </tr>\n",
              "    <tr>\n",
              "      <th>58559</th>\n",
              "      <td>4.750000</td>\n",
              "      <td>6</td>\n",
              "      <td>Dark Knight, The (2008)</td>\n",
              "      <td>Action|Crime|Drama|IMAX</td>\n",
              "      <td>149.0</td>\n",
              "      <td>4.238255</td>\n",
              "    </tr>\n",
              "    <tr>\n",
              "      <th>4993</th>\n",
              "      <td>4.714286</td>\n",
              "      <td>7</td>\n",
              "      <td>Lord of the Rings: The Fellowship of the Ring,...</td>\n",
              "      <td>Adventure|Fantasy</td>\n",
              "      <td>198.0</td>\n",
              "      <td>4.106061</td>\n",
              "    </tr>\n",
              "    <tr>\n",
              "      <th>318</th>\n",
              "      <td>4.583333</td>\n",
              "      <td>6</td>\n",
              "      <td>Shawshank Redemption, The (1994)</td>\n",
              "      <td>Crime|Drama</td>\n",
              "      <td>317.0</td>\n",
              "      <td>4.429022</td>\n",
              "    </tr>\n",
              "    <tr>\n",
              "      <th>109487</th>\n",
              "      <td>4.583333</td>\n",
              "      <td>6</td>\n",
              "      <td>Interstellar (2014)</td>\n",
              "      <td>Sci-Fi|IMAX</td>\n",
              "      <td>73.0</td>\n",
              "      <td>3.993151</td>\n",
              "    </tr>\n",
              "  </tbody>\n",
              "</table>\n",
              "</div>"
            ],
            "text/plain": [
              "         nota_media_usuarios  ...  notas_medias\n",
              "filmeId                       ...              \n",
              "7153                4.750000  ...      4.118919\n",
              "58559               4.750000  ...      4.238255\n",
              "4993                4.714286  ...      4.106061\n",
              "318                 4.583333  ...      4.429022\n",
              "109487              4.583333  ...      3.993151\n",
              "\n",
              "[5 rows x 6 columns]"
            ]
          },
          "metadata": {
            "tags": []
          },
          "execution_count": 182
        }
      ]
    }
  ]
}