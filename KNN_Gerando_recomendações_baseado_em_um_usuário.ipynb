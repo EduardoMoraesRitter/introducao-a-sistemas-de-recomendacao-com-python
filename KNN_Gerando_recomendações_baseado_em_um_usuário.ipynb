{
  "nbformat": 4,
  "nbformat_minor": 0,
  "metadata": {
    "colab": {
      "name": "KNN - Gerando recomendações baseado em um usuário",
      "provenance": [],
      "collapsed_sections": [],
      "authorship_tag": "ABX9TyN6fIHY6TiQFzllfaBkHvgh",
      "include_colab_link": true
    },
    "kernelspec": {
      "name": "python3",
      "display_name": "Python 3"
    }
  },
  "cells": [
    {
      "cell_type": "markdown",
      "metadata": {
        "id": "view-in-github",
        "colab_type": "text"
      },
      "source": [
        "<a href=\"https://colab.research.google.com/github/EduardoMoraesRitter/introducao-a-sistemas-de-recomendacao-com-python/blob/master/KNN_Gerando_recomenda%C3%A7%C3%B5es_baseado_em_um_usu%C3%A1rio.ipynb\" target=\"_parent\"><img src=\"https://colab.research.google.com/assets/colab-badge.svg\" alt=\"Open In Colab\"/></a>"
      ]
    },
    {
      "cell_type": "markdown",
      "metadata": {
        "id": "L5EYwG-JKpiW",
        "colab_type": "text"
      },
      "source": [
        "#RecSys"
      ]
    },
    {
      "cell_type": "code",
      "metadata": {
        "id": "7G0OmSKZdYJe",
        "colab_type": "code",
        "colab": {}
      },
      "source": [
        "import pandas as pd\n",
        "\n",
        "filmes = pd.read_csv('movies.csv')\n",
        "notas = pd.read_csv('ratings.csv')\n",
        "\n",
        "filmes.columns = ['filmeId', 'titulo', 'generos']\n",
        "filmes = filmes.set_index('filmeId')\n",
        "notas.columns = ['usuarioId', 'filmeId', 'nota', 'momento']\n",
        "\n",
        "#total de votos\n",
        "filmes['total_de_votos'] = notas['filmeId'].value_counts()\n",
        "\n",
        "#media de nota por filme\n",
        "filmes['notas_medias'] = notas.groupby('filmeId').mean()['nota']"
      ],
      "execution_count": 0,
      "outputs": []
    },
    {
      "cell_type": "code",
      "metadata": {
        "id": "nzLX2VibeL0Y",
        "colab_type": "code",
        "colab": {
          "base_uri": "https://localhost:8080/",
          "height": 225
        },
        "outputId": "29cc89f2-e5a4-4288-8243-652f1d3e7898"
      },
      "source": [
        "#filtar um usuario, pegar duas coluna, colocar com indice\n",
        "notas_usuario = notas.query('usuarioId==1')\n",
        "notas_usuario = notas_usuario[['filmeId', 'nota']].set_index(\"filmeId\")\n",
        "notas_usuario.head()"
      ],
      "execution_count": 188,
      "outputs": [
        {
          "output_type": "execute_result",
          "data": {
            "text/html": [
              "<div>\n",
              "<style scoped>\n",
              "    .dataframe tbody tr th:only-of-type {\n",
              "        vertical-align: middle;\n",
              "    }\n",
              "\n",
              "    .dataframe tbody tr th {\n",
              "        vertical-align: top;\n",
              "    }\n",
              "\n",
              "    .dataframe thead th {\n",
              "        text-align: right;\n",
              "    }\n",
              "</style>\n",
              "<table border=\"1\" class=\"dataframe\">\n",
              "  <thead>\n",
              "    <tr style=\"text-align: right;\">\n",
              "      <th></th>\n",
              "      <th>nota</th>\n",
              "    </tr>\n",
              "    <tr>\n",
              "      <th>filmeId</th>\n",
              "      <th></th>\n",
              "    </tr>\n",
              "  </thead>\n",
              "  <tbody>\n",
              "    <tr>\n",
              "      <th>307.0</th>\n",
              "      <td>3.5</td>\n",
              "    </tr>\n",
              "    <tr>\n",
              "      <th>481.0</th>\n",
              "      <td>3.5</td>\n",
              "    </tr>\n",
              "    <tr>\n",
              "      <th>1091.0</th>\n",
              "      <td>1.5</td>\n",
              "    </tr>\n",
              "    <tr>\n",
              "      <th>1257.0</th>\n",
              "      <td>4.5</td>\n",
              "    </tr>\n",
              "    <tr>\n",
              "      <th>1449.0</th>\n",
              "      <td>4.5</td>\n",
              "    </tr>\n",
              "  </tbody>\n",
              "</table>\n",
              "</div>"
            ],
            "text/plain": [
              "         nota\n",
              "filmeId      \n",
              "307.0     3.5\n",
              "481.0     3.5\n",
              "1091.0    1.5\n",
              "1257.0    4.5\n",
              "1449.0    4.5"
            ]
          },
          "metadata": {
            "tags": []
          },
          "execution_count": 188
        }
      ]
    },
    {
      "cell_type": "markdown",
      "metadata": {
        "id": "NMgfHKSvpL4f",
        "colab_type": "text"
      },
      "source": [
        "#Parametros para teste"
      ]
    },
    {
      "cell_type": "code",
      "metadata": {
        "id": "FZfu_SPwrP1T",
        "colab_type": "code",
        "colab": {}
      },
      "source": [
        "def notas_usuario(usuarioId):\n",
        "    notas_usuario = notas.query('usuarioId==%d' % usuarioId)\n",
        "    notas_usuario = notas_usuario[['filmeId', 'nota']].set_index(\"filmeId\")\n",
        "    return notas_usuario"
      ],
      "execution_count": 0,
      "outputs": []
    },
    {
      "cell_type": "code",
      "metadata": {
        "id": "42yHFQGhrBXe",
        "colab_type": "code",
        "colab": {}
      },
      "source": [
        "def distancia_usuarios(uId1,uId2, minimo=5):\n",
        "  u1N = notas_usuario(uId1)\n",
        "  u2N = notas_usuario(uId2)\n",
        "  diferencas = u1N.join(u2N, lsuffix=\"u_esq\", rsuffix=\"u_dir\").dropna()\n",
        "  if(len(diferencas) < minimo):\n",
        "    return None\n",
        "  distancia_usu1_usu2 = distancia_vetor(diferencas['notau_esq'], diferencas['notau_dir'])\n",
        "  return [uId1, uId2, distancia_usu1_usu2]"
      ],
      "execution_count": 0,
      "outputs": []
    },
    {
      "cell_type": "code",
      "metadata": {
        "id": "5QTxcb8Rp-h8",
        "colab_type": "code",
        "colab": {}
      },
      "source": [
        "def distancia_todos(voce, numero_usuario_analizar = None):\n",
        "  todos_usuarios = notas['usuarioId'].unique()\n",
        "  if numero_usuario_analizar:\n",
        "     todos_usuarios = todos_usuarios[:numero_usuario_analizar]\n",
        "  distancias = [distancia_usuarios(voce,usuario_id) for usuario_id in todos_usuarios]\n",
        "  distancias = list(filter(None, distancias))\n",
        "  distancias = pd.DataFrame(distancias, columns = [\"voce\", \"outro\", \"distancia\"])\n",
        "  return distancias"
      ],
      "execution_count": 0,
      "outputs": []
    },
    {
      "cell_type": "code",
      "metadata": {
        "id": "NpJ6Sm_kpOhl",
        "colab_type": "code",
        "colab": {
          "base_uri": "https://localhost:8080/",
          "height": 106
        },
        "outputId": "e34c9dac-eedb-4dfd-cf4e-6276534b2c41"
      },
      "source": [
        "def mais_proxima(voce_id, numero_usuario_analizar = None):\n",
        "  distancias = distancia_todos(voce_id, numero_usuario_analizar=numero_usuario_analizar)\n",
        "  distancias = distancias.sort_values(\"distancia\").set_index(\"outro\").drop(voce_id)\n",
        "  return distancias\n",
        "mais_proxima(1, numero_usuario_analizar=5)"
      ],
      "execution_count": 192,
      "outputs": [
        {
          "output_type": "execute_result",
          "data": {
            "text/html": [
              "<div>\n",
              "<style scoped>\n",
              "    .dataframe tbody tr th:only-of-type {\n",
              "        vertical-align: middle;\n",
              "    }\n",
              "\n",
              "    .dataframe tbody tr th {\n",
              "        vertical-align: top;\n",
              "    }\n",
              "\n",
              "    .dataframe thead th {\n",
              "        text-align: right;\n",
              "    }\n",
              "</style>\n",
              "<table border=\"1\" class=\"dataframe\">\n",
              "  <thead>\n",
              "    <tr style=\"text-align: right;\">\n",
              "      <th></th>\n",
              "      <th>voce</th>\n",
              "      <th>distancia</th>\n",
              "    </tr>\n",
              "    <tr>\n",
              "      <th>outro</th>\n",
              "      <th></th>\n",
              "      <th></th>\n",
              "    </tr>\n",
              "  </thead>\n",
              "  <tbody>\n",
              "    <tr>\n",
              "      <th>4</th>\n",
              "      <td>1</td>\n",
              "      <td>3.041381</td>\n",
              "    </tr>\n",
              "  </tbody>\n",
              "</table>\n",
              "</div>"
            ],
            "text/plain": [
              "       voce  distancia\n",
              "outro                 \n",
              "4         1   3.041381"
            ]
          },
          "metadata": {
            "tags": []
          },
          "execution_count": 192
        }
      ]
    },
    {
      "cell_type": "markdown",
      "metadata": {
        "id": "HgwmAaI_s68d",
        "colab_type": "text"
      },
      "source": [
        "#pegar o usuario mais similar, pegar os filmes que ele assistiu e vc nao "
      ]
    },
    {
      "cell_type": "code",
      "metadata": {
        "id": "IJWcii-srzoy",
        "colab_type": "code",
        "colab": {
          "base_uri": "https://localhost:8080/",
          "height": 225
        },
        "outputId": "7b8e75e0-84d5-4b79-9755-393c1a4b8cb0"
      },
      "source": [
        "voce = 1\n",
        "notas_voce = notas_usuario(voce)\n",
        "filmes_voce = notas_voce.index\n",
        "similares = mais_proxima(voce, numero_usuario_analizar=5)\n",
        "#pega a linha iloc, pega o name\n",
        "similar = similares.iloc[0].name\n",
        "notas_similar = notas_usuario(similar)\n",
        "#remover os filmes q vc assistiu da lista, que vc viu q ele nao viu\n",
        "notas_similar = notas_similar.drop(filmes_voce, errors='ignore')\n",
        "notas_similar = notas_similar.sort_values(\"nota\", ascending=False)\n",
        "notas_similar.head()"
      ],
      "execution_count": 193,
      "outputs": [
        {
          "output_type": "execute_result",
          "data": {
            "text/html": [
              "<div>\n",
              "<style scoped>\n",
              "    .dataframe tbody tr th:only-of-type {\n",
              "        vertical-align: middle;\n",
              "    }\n",
              "\n",
              "    .dataframe tbody tr th {\n",
              "        vertical-align: top;\n",
              "    }\n",
              "\n",
              "    .dataframe thead th {\n",
              "        text-align: right;\n",
              "    }\n",
              "</style>\n",
              "<table border=\"1\" class=\"dataframe\">\n",
              "  <thead>\n",
              "    <tr style=\"text-align: right;\">\n",
              "      <th></th>\n",
              "      <th>nota</th>\n",
              "    </tr>\n",
              "    <tr>\n",
              "      <th>filmeId</th>\n",
              "      <th></th>\n",
              "    </tr>\n",
              "  </thead>\n",
              "  <tbody>\n",
              "    <tr>\n",
              "      <th>2193.0</th>\n",
              "      <td>5.0</td>\n",
              "    </tr>\n",
              "    <tr>\n",
              "      <th>27773.0</th>\n",
              "      <td>5.0</td>\n",
              "    </tr>\n",
              "    <tr>\n",
              "      <th>349.0</th>\n",
              "      <td>5.0</td>\n",
              "    </tr>\n",
              "    <tr>\n",
              "      <th>8132.0</th>\n",
              "      <td>5.0</td>\n",
              "    </tr>\n",
              "    <tr>\n",
              "      <th>8360.0</th>\n",
              "      <td>5.0</td>\n",
              "    </tr>\n",
              "  </tbody>\n",
              "</table>\n",
              "</div>"
            ],
            "text/plain": [
              "         nota\n",
              "filmeId      \n",
              "2193.0    5.0\n",
              "27773.0   5.0\n",
              "349.0     5.0\n",
              "8132.0    5.0\n",
              "8360.0    5.0"
            ]
          },
          "metadata": {
            "tags": []
          },
          "execution_count": 193
        }
      ]
    },
    {
      "cell_type": "code",
      "metadata": {
        "id": "yt4sY8xfuJzf",
        "colab_type": "code",
        "colab": {}
      },
      "source": [
        "def sugere_para(voce, numero_usuario_analizar=None):\n",
        "  notas_voce = notas_usuario(voce)\n",
        "  filmes_voce = notas_voce.index\n",
        "  similares = mais_proxima(voce, numero_usuario_analizar=numero_usuario_analizar)\n",
        "  similar = similares.iloc[0].name\n",
        "  notas_similar = notas_usuario(similar)\n",
        "  notas_similar = notas_similar.drop(filmes_voce, errors='ignore')\n",
        "  recomendacoes = notas_similar.sort_values(\"nota\", ascending=False)\n",
        "  return recomendacoes.join(filmes)"
      ],
      "execution_count": 0,
      "outputs": []
    },
    {
      "cell_type": "code",
      "metadata": {
        "id": "SQSALlx2v4Kc",
        "colab_type": "code",
        "colab": {}
      },
      "source": [
        "sugere_para(1).head()"
      ],
      "execution_count": 0,
      "outputs": []
    },
    {
      "cell_type": "markdown",
      "metadata": {
        "id": "fJde14i5yJxd",
        "colab_type": "text"
      },
      "source": [
        "#sugerir baseado em varios usuarios"
      ]
    },
    {
      "cell_type": "code",
      "metadata": {
        "id": "XQB1W8mByOMV",
        "colab_type": "code",
        "colab": {}
      },
      "source": [
        "def mais_proxima(voce_id, n_mais_proximos=10, numero_usuario_analizar = None):\n",
        "  distancias = distancia_todos(voce_id, numero_usuario_analizar=numero_usuario_analizar)\n",
        "  distancias = distancias.sort_values(\"distancia\").set_index(\"outro\").drop(voce_id)\n",
        "  return distancias.head(n_mais_proximos)"
      ],
      "execution_count": 0,
      "outputs": []
    },
    {
      "cell_type": "code",
      "metadata": {
        "id": "6kD5o4-9ywVl",
        "colab_type": "code",
        "colab": {}
      },
      "source": [
        "mais_proxima(1, 3, 200)"
      ],
      "execution_count": 0,
      "outputs": []
    },
    {
      "cell_type": "code",
      "metadata": {
        "id": "v1Vlin_Qy887",
        "colab_type": "code",
        "colab": {}
      },
      "source": [
        "voce = 1\n",
        "n_mais_proximos = 10\n",
        "numero_usuario_analizar = 200\n",
        "\n",
        "notas_voce = notas_usuario(voce)\n",
        "filmes_voce = notas_voce.index\n",
        "\n",
        "similares = mais_proxima(voce, n_mais_proximos=n_mais_proximos, numero_usuario_analizar=numero_usuario_analizar)\n",
        "usuarios_similares = similares.index\n",
        "#pega a nota de todos esse usuario\n",
        "#notas.query('usuarios in [4,6]') muito ruim\n",
        "#nao tem problema do index esta repetido\n",
        "notas_similares = notas.set_index(\"usuarioId\").loc[usuarios_similares]\n",
        "\n",
        "#fazer uma media dentre as notas, retorna um serie\n",
        "notas_similares.groupby(\"filmeId\").mean()[\"nota\"]\n",
        "\n",
        "#retona com [] transforma para dataframe\n",
        "recomendacoes = notas_similares.groupby(\"filmeId\").mean()[[\"nota\"]]\n",
        "recomendacoes = recomendacoes.sort_values(\"nota\", ascending=False)\n",
        "\n",
        "#junta com os filmes\n",
        "recomendacoes.join(filmes).head()\n",
        "\n",
        "#antes\n",
        "# similar = similares.iloc[0].name\n",
        "# notas_similar = notas_usuario(similar)\n",
        "# notas_similar = notas_similar.drop(filmes_voce, errors='ignore')\n",
        "# notas_similar = notas_similar.sort_values(\"nota\", ascending=False)\n",
        "# notas_similar.head()"
      ],
      "execution_count": 0,
      "outputs": []
    },
    {
      "cell_type": "code",
      "metadata": {
        "id": "SD2lMsGizlY1",
        "colab_type": "code",
        "colab": {}
      },
      "source": [
        "def knn(voce, k_mais_proximos = 10, numero_usuario_analizar = None):\n",
        "  notas_voce = notas_usuario(voce)\n",
        "  filmes_voce = notas_voce.index\n",
        "\n",
        "  similares = mais_proxima(voce, n_mais_proximos=k_mais_proximos, numero_usuario_analizar=numero_usuario_analizar)\n",
        "  usuarios_similares = similares.index\n",
        "  notas_similares = notas.set_index(\"usuarioId\").loc[usuarios_similares]\n",
        "  recomendacoes = notas_similares.groupby(\"filmeId\").mean()[[\"nota\"]]\n",
        "  recomendacoes = recomendacoes.sort_values(\"nota\", ascending=False)\n",
        "  return recomendacoes.join(filmes)"
      ],
      "execution_count": 0,
      "outputs": []
    },
    {
      "cell_type": "code",
      "metadata": {
        "id": "H85nitkK4p5i",
        "colab_type": "code",
        "colab": {}
      },
      "source": [
        "knn(1, 10, 50).head()"
      ],
      "execution_count": 0,
      "outputs": []
    },
    {
      "cell_type": "code",
      "metadata": {
        "id": "QV3lhHzW4y_Y",
        "colab_type": "code",
        "colab": {}
      },
      "source": [
        "knn(1).head()"
      ],
      "execution_count": 0,
      "outputs": []
    },
    {
      "cell_type": "code",
      "metadata": {
        "id": "QGdxOlMk7yoR",
        "colab_type": "code",
        "colab": {}
      },
      "source": [
        "knn(1).tail()"
      ],
      "execution_count": 0,
      "outputs": []
    },
    {
      "cell_type": "code",
      "metadata": {
        "id": "qOD3NLLW705S",
        "colab_type": "code",
        "colab": {}
      },
      "source": [
        ""
      ],
      "execution_count": 0,
      "outputs": []
    },
    {
      "cell_type": "markdown",
      "metadata": {
        "id": "Scaev1kZ8GLt",
        "colab_type": "text"
      },
      "source": [
        "#Notas de filmes com mais de 50 notas\n"
      ]
    },
    {
      "cell_type": "code",
      "metadata": {
        "id": "2q26Yn-x8KF8",
        "colab_type": "code",
        "colab": {}
      },
      "source": [
        "filmes_mais_50_votos = filmes.query(\"total_de_votos >= 50\")\n",
        "filmes_mais_50_votos.index\n",
        "#colocar as nota para index ser o filme, localiza so os mais de 50 votos\n",
        "notas = notas.set_index(\"filmeId\").loc[filmes_mais_50_votos.index]\n",
        "\n",
        "notas.head()"
      ],
      "execution_count": 0,
      "outputs": []
    },
    {
      "cell_type": "code",
      "metadata": {
        "id": "8YZVIIkt9HHn",
        "colab_type": "code",
        "colab": {}
      },
      "source": [
        "#precisa voltar o index original, para qunado tentar acessa a coluna filmeID nao da\n",
        "notas = notas.reset_index()\n",
        "notas.head()"
      ],
      "execution_count": 0,
      "outputs": []
    },
    {
      "cell_type": "code",
      "metadata": {
        "id": "HA-XQos1-FzX",
        "colab_type": "code",
        "colab": {}
      },
      "source": [
        "knn(1).head()"
      ],
      "execution_count": 0,
      "outputs": []
    },
    {
      "cell_type": "code",
      "metadata": {
        "id": "NrZvt2q8ATGV",
        "colab_type": "code",
        "colab": {}
      },
      "source": [
        "#cuidado com o drop pq ele pode nao estar la usar o errors='ignore'\n",
        "def mais_proxima(voce_id, n_mais_proximos=10, numero_usuario_analizar = None):\n",
        "  distancias = distancia_todos(voce_id, numero_usuario_analizar=numero_usuario_analizar)\n",
        "  distancias = distancias.sort_values(\"distancia\").set_index(\"outro\").drop(voce_id, errors='ignore')\n",
        "  return distancias.head(n_mais_proximos)"
      ],
      "execution_count": 0,
      "outputs": []
    },
    {
      "cell_type": "code",
      "metadata": {
        "id": "GeArXnZo-Ke5",
        "colab_type": "code",
        "colab": {}
      },
      "source": [
        "#tirar os filmes que tem pouco votos dentro da pessoas que sao semelhantes a mim\n",
        "def knn(voce_id, k_mais_proximos = 10, numero_usuario_analizar = None):\n",
        "  notas_voce = notas_usuario(voce_id)\n",
        "  filmes_voce = notas_voce.index\n",
        "\n",
        "  similares = mais_proxima(voce_id, n_mais_proximos=k_mais_proximos, numero_usuario_analizar=numero_usuario_analizar)\n",
        "  usuarios_similares = similares.index\n",
        "  notas_similares = notas.set_index(\"usuarioId\").loc[usuarios_similares]\n",
        "  recomendacoes = notas_similares.groupby(\"filmeId\").mean()[[\"nota\"]]\n",
        "  \n",
        "  aparicoes = notas_similares.groupby(\"filmeId\").count()[['nota']]\n",
        "  filtro_minimo = k_mais_proximos / 2\n",
        "  recomendacoes = recomendacoes.join(aparicoes, lsuffix='_media_usuarios', rsuffix='_qtd_votos_usuarios')\n",
        "  recomendacoes = recomendacoes.query(\"nota_qtd_votos_usuarios >= %.2f\" % filtro_minimo)\n",
        "  recomendacoes = recomendacoes.sort_values(\"nota_media_usuarios\", ascending=False)\n",
        "\n",
        "  recomendacoes = recomendacoes.drop(filmes_voce, errors='ignore')\n",
        "\n",
        "  return recomendacoes.join(filmes)"
      ],
      "execution_count": 0,
      "outputs": []
    },
    {
      "cell_type": "code",
      "metadata": {
        "id": "W2va1Xdy_5ln",
        "colab_type": "code",
        "colab": {}
      },
      "source": [
        "knn(1).head()"
      ],
      "execution_count": 0,
      "outputs": []
    }
  ]
}