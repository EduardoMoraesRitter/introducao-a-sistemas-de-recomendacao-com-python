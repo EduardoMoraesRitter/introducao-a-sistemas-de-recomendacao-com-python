{
  "nbformat": 4,
  "nbformat_minor": 0,
  "metadata": {
    "colab": {
      "name": "KNN - Gerando recomendações baseado em um usuário",
      "provenance": [],
      "collapsed_sections": [],
      "authorship_tag": "ABX9TyNKfyvRtB0lKDZH9CFBVtJd",
      "include_colab_link": true
    },
    "kernelspec": {
      "name": "python3",
      "display_name": "Python 3"
    }
  },
  "cells": [
    {
      "cell_type": "markdown",
      "metadata": {
        "id": "view-in-github",
        "colab_type": "text"
      },
      "source": [
        "<a href=\"https://colab.research.google.com/github/EduardoMoraesRitter/introducao-a-sistemas-de-recomendacao-com-python/blob/master/KNN_Gerando_recomenda%C3%A7%C3%B5es_baseado_em_um_usu%C3%A1rio.ipynb\" target=\"_parent\"><img src=\"https://colab.research.google.com/assets/colab-badge.svg\" alt=\"Open In Colab\"/></a>"
      ]
    },
    {
      "cell_type": "code",
      "metadata": {
        "id": "7G0OmSKZdYJe",
        "colab_type": "code",
        "colab": {}
      },
      "source": [
        "import pandas as pd\n",
        "\n",
        "filmes = pd.read_csv('movies.csv')\n",
        "notas = pd.read_csv('ratings.csv')\n",
        "\n",
        "filmes.columns = ['filmeId', 'titulo', 'generos']\n",
        "filmes = filmes.set_index('filmeId')\n",
        "notas.columns = ['usuarioId', 'filmeId', 'nota', 'momento']"
      ],
      "execution_count": 0,
      "outputs": []
    },
    {
      "cell_type": "code",
      "metadata": {
        "id": "nzLX2VibeL0Y",
        "colab_type": "code",
        "colab": {
          "base_uri": "https://localhost:8080/",
          "height": 225
        },
        "outputId": "52079709-c0fe-4b2b-a85f-1a9032562316"
      },
      "source": [
        "#filtar um usuario, pegar duas coluna, colocar com indice\n",
        "notas_usuario = notas.query('usuarioId==1')\n",
        "notas_usuario = notas_usuario[['filmeId', 'nota']].set_index(\"filmeId\")\n",
        "notas_usuario.head()"
      ],
      "execution_count": 84,
      "outputs": [
        {
          "output_type": "execute_result",
          "data": {
            "text/html": [
              "<div>\n",
              "<style scoped>\n",
              "    .dataframe tbody tr th:only-of-type {\n",
              "        vertical-align: middle;\n",
              "    }\n",
              "\n",
              "    .dataframe tbody tr th {\n",
              "        vertical-align: top;\n",
              "    }\n",
              "\n",
              "    .dataframe thead th {\n",
              "        text-align: right;\n",
              "    }\n",
              "</style>\n",
              "<table border=\"1\" class=\"dataframe\">\n",
              "  <thead>\n",
              "    <tr style=\"text-align: right;\">\n",
              "      <th></th>\n",
              "      <th>nota</th>\n",
              "    </tr>\n",
              "    <tr>\n",
              "      <th>filmeId</th>\n",
              "      <th></th>\n",
              "    </tr>\n",
              "  </thead>\n",
              "  <tbody>\n",
              "    <tr>\n",
              "      <th>1</th>\n",
              "      <td>4.0</td>\n",
              "    </tr>\n",
              "    <tr>\n",
              "      <th>3</th>\n",
              "      <td>4.0</td>\n",
              "    </tr>\n",
              "    <tr>\n",
              "      <th>6</th>\n",
              "      <td>4.0</td>\n",
              "    </tr>\n",
              "    <tr>\n",
              "      <th>47</th>\n",
              "      <td>5.0</td>\n",
              "    </tr>\n",
              "    <tr>\n",
              "      <th>50</th>\n",
              "      <td>5.0</td>\n",
              "    </tr>\n",
              "  </tbody>\n",
              "</table>\n",
              "</div>"
            ],
            "text/plain": [
              "         nota\n",
              "filmeId      \n",
              "1         4.0\n",
              "3         4.0\n",
              "6         4.0\n",
              "47        5.0\n",
              "50        5.0"
            ]
          },
          "metadata": {
            "tags": []
          },
          "execution_count": 84
        }
      ]
    },
    {
      "cell_type": "markdown",
      "metadata": {
        "id": "NMgfHKSvpL4f",
        "colab_type": "text"
      },
      "source": [
        "#Parametros para teste"
      ]
    },
    {
      "cell_type": "code",
      "metadata": {
        "id": "FZfu_SPwrP1T",
        "colab_type": "code",
        "colab": {}
      },
      "source": [
        "def notas_usuario(usuarioId):\n",
        "    notas_usuario = notas.query('usuarioId==%d' % usuarioId)\n",
        "    notas_usuario = notas_usuario[['filmeId', 'nota']].set_index(\"filmeId\")\n",
        "    return notas_usuario"
      ],
      "execution_count": 0,
      "outputs": []
    },
    {
      "cell_type": "code",
      "metadata": {
        "id": "42yHFQGhrBXe",
        "colab_type": "code",
        "colab": {}
      },
      "source": [
        "def distancia_usuarios(uId1,uId2, minimo=5):\n",
        "  u1N = notas_usuario(uId1)\n",
        "  u2N = notas_usuario(uId2)\n",
        "  diferencas = u1N.join(u2N, lsuffix=\"u_esq\", rsuffix=\"u_dir\").dropna()\n",
        "  if(len(diferencas) < minimo):\n",
        "    return None\n",
        "  distancia_usu1_usu2 = distancia_vetor(diferencas['notau_esq'], diferencas['notau_dir'])\n",
        "  return [uId1, uId2, distancia_usu1_usu2]"
      ],
      "execution_count": 0,
      "outputs": []
    },
    {
      "cell_type": "code",
      "metadata": {
        "id": "5QTxcb8Rp-h8",
        "colab_type": "code",
        "colab": {}
      },
      "source": [
        "def distancia_todos(voce, numero_usuario_analizar = None):\n",
        "  todos_usuarios = notas['usuarioId'].unique()\n",
        "  if numero_usuario_analizar:\n",
        "     todos_usuarios = todos_usuarios[:numero_usuario_analizar]\n",
        "  distancias = [distancia_usuarios(voce,usuario_id) for usuario_id in todos_usuarios]\n",
        "  distancias = list(filter(None, distancias))\n",
        "  distancias = pd.DataFrame(distancias, columns = [\"voce\", \"outro\", \"distancia\"])\n",
        "  return distancias"
      ],
      "execution_count": 0,
      "outputs": []
    },
    {
      "cell_type": "code",
      "metadata": {
        "id": "NpJ6Sm_kpOhl",
        "colab_type": "code",
        "colab": {
          "base_uri": "https://localhost:8080/",
          "height": 166
        },
        "outputId": "6fa8a0f7-d819-46e8-dafd-93d7c01f038a"
      },
      "source": [
        "def mais_proxima(voce_id, numero_usuario_analizar = None):\n",
        "  distancias = distancia_todos(voce_id, numero_usuario_analizar=numero_usuario_analizar)\n",
        "  distancias = distancias.sort_values(\"distancia\").set_index(\"outro\").drop(voce_id)\n",
        "  return distancias\n",
        "mais_proxima(1, numero_usuario_analizar=5)"
      ],
      "execution_count": 88,
      "outputs": [
        {
          "output_type": "execute_result",
          "data": {
            "text/html": [
              "<div>\n",
              "<style scoped>\n",
              "    .dataframe tbody tr th:only-of-type {\n",
              "        vertical-align: middle;\n",
              "    }\n",
              "\n",
              "    .dataframe tbody tr th {\n",
              "        vertical-align: top;\n",
              "    }\n",
              "\n",
              "    .dataframe thead th {\n",
              "        text-align: right;\n",
              "    }\n",
              "</style>\n",
              "<table border=\"1\" class=\"dataframe\">\n",
              "  <thead>\n",
              "    <tr style=\"text-align: right;\">\n",
              "      <th></th>\n",
              "      <th>voce</th>\n",
              "      <th>distancia</th>\n",
              "    </tr>\n",
              "    <tr>\n",
              "      <th>outro</th>\n",
              "      <th></th>\n",
              "      <th></th>\n",
              "    </tr>\n",
              "  </thead>\n",
              "  <tbody>\n",
              "    <tr>\n",
              "      <th>5</th>\n",
              "      <td>1</td>\n",
              "      <td>3.741657</td>\n",
              "    </tr>\n",
              "    <tr>\n",
              "      <th>3</th>\n",
              "      <td>1</td>\n",
              "      <td>8.200610</td>\n",
              "    </tr>\n",
              "    <tr>\n",
              "      <th>4</th>\n",
              "      <td>1</td>\n",
              "      <td>11.135529</td>\n",
              "    </tr>\n",
              "  </tbody>\n",
              "</table>\n",
              "</div>"
            ],
            "text/plain": [
              "       voce  distancia\n",
              "outro                 \n",
              "5         1   3.741657\n",
              "3         1   8.200610\n",
              "4         1  11.135529"
            ]
          },
          "metadata": {
            "tags": []
          },
          "execution_count": 88
        }
      ]
    },
    {
      "cell_type": "markdown",
      "metadata": {
        "id": "HgwmAaI_s68d",
        "colab_type": "text"
      },
      "source": [
        "#pegar o usuario mais similar, pegar os filmes que ele assistiu e vc nao "
      ]
    },
    {
      "cell_type": "code",
      "metadata": {
        "id": "IJWcii-srzoy",
        "colab_type": "code",
        "colab": {
          "base_uri": "https://localhost:8080/",
          "height": 225
        },
        "outputId": "dd71318f-f4fa-4524-d5d2-fed5e1e10ecd"
      },
      "source": [
        "voce = 1\n",
        "notas_voce = notas_usuario(voce)\n",
        "filmes_voce = notas_voce.index\n",
        "similares = mais_proxima(voce, numero_usuario_analizar=5)\n",
        "#pega a linha iloc, pega o name\n",
        "similar = similares.iloc[0].name\n",
        "notas_similar = notas_usuario(similar)\n",
        "#remover os filmes q vc assistiu da lista, que vc viu q ele nao viu\n",
        "notas_similar = notas_similar.drop(filmes_voce, errors='ignore')\n",
        "notas_similar = notas_similar.sort_values(\"nota\", ascending=False)\n",
        "notas_similar.head()"
      ],
      "execution_count": 89,
      "outputs": [
        {
          "output_type": "execute_result",
          "data": {
            "text/html": [
              "<div>\n",
              "<style scoped>\n",
              "    .dataframe tbody tr th:only-of-type {\n",
              "        vertical-align: middle;\n",
              "    }\n",
              "\n",
              "    .dataframe tbody tr th {\n",
              "        vertical-align: top;\n",
              "    }\n",
              "\n",
              "    .dataframe thead th {\n",
              "        text-align: right;\n",
              "    }\n",
              "</style>\n",
              "<table border=\"1\" class=\"dataframe\">\n",
              "  <thead>\n",
              "    <tr style=\"text-align: right;\">\n",
              "      <th></th>\n",
              "      <th>nota</th>\n",
              "    </tr>\n",
              "    <tr>\n",
              "      <th>filmeId</th>\n",
              "      <th></th>\n",
              "    </tr>\n",
              "  </thead>\n",
              "  <tbody>\n",
              "    <tr>\n",
              "      <th>475</th>\n",
              "      <td>5.0</td>\n",
              "    </tr>\n",
              "    <tr>\n",
              "      <th>595</th>\n",
              "      <td>5.0</td>\n",
              "    </tr>\n",
              "    <tr>\n",
              "      <th>58</th>\n",
              "      <td>5.0</td>\n",
              "    </tr>\n",
              "    <tr>\n",
              "      <th>594</th>\n",
              "      <td>5.0</td>\n",
              "    </tr>\n",
              "    <tr>\n",
              "      <th>290</th>\n",
              "      <td>5.0</td>\n",
              "    </tr>\n",
              "  </tbody>\n",
              "</table>\n",
              "</div>"
            ],
            "text/plain": [
              "         nota\n",
              "filmeId      \n",
              "475       5.0\n",
              "595       5.0\n",
              "58        5.0\n",
              "594       5.0\n",
              "290       5.0"
            ]
          },
          "metadata": {
            "tags": []
          },
          "execution_count": 89
        }
      ]
    },
    {
      "cell_type": "code",
      "metadata": {
        "id": "yt4sY8xfuJzf",
        "colab_type": "code",
        "colab": {}
      },
      "source": [
        "def sugere_para(voce, numero_usuario_analizar=None):\n",
        "  notas_voce = notas_usuario(voce)\n",
        "  filmes_voce = notas_voce.index\n",
        "  similares = mais_proxima(voce, numero_usuario_analizar=numero_usuario_analizar)\n",
        "  similar = similares.iloc[0].name\n",
        "  notas_similar = notas_usuario(similar)\n",
        "  notas_similar = notas_similar.drop(filmes_voce, errors='ignore')\n",
        "  recomendacoes = notas_similar.sort_values(\"nota\", ascending=False)\n",
        "  return recomendacoes.join(filmes)"
      ],
      "execution_count": 0,
      "outputs": []
    },
    {
      "cell_type": "code",
      "metadata": {
        "id": "SQSALlx2v4Kc",
        "colab_type": "code",
        "colab": {
          "base_uri": "https://localhost:8080/",
          "height": 225
        },
        "outputId": "501f507a-3b93-4eed-b7fb-4f7afa010edf"
      },
      "source": [
        "sugere_para(1).head()"
      ],
      "execution_count": 91,
      "outputs": [
        {
          "output_type": "execute_result",
          "data": {
            "text/html": [
              "<div>\n",
              "<style scoped>\n",
              "    .dataframe tbody tr th:only-of-type {\n",
              "        vertical-align: middle;\n",
              "    }\n",
              "\n",
              "    .dataframe tbody tr th {\n",
              "        vertical-align: top;\n",
              "    }\n",
              "\n",
              "    .dataframe thead th {\n",
              "        text-align: right;\n",
              "    }\n",
              "</style>\n",
              "<table border=\"1\" class=\"dataframe\">\n",
              "  <thead>\n",
              "    <tr style=\"text-align: right;\">\n",
              "      <th></th>\n",
              "      <th>nota</th>\n",
              "      <th>titulo</th>\n",
              "      <th>generos</th>\n",
              "    </tr>\n",
              "    <tr>\n",
              "      <th>filmeId</th>\n",
              "      <th></th>\n",
              "      <th></th>\n",
              "      <th></th>\n",
              "    </tr>\n",
              "  </thead>\n",
              "  <tbody>\n",
              "    <tr>\n",
              "      <th>8636</th>\n",
              "      <td>5.0</td>\n",
              "      <td>Spider-Man 2 (2004)</td>\n",
              "      <td>Action|Adventure|Sci-Fi|IMAX</td>\n",
              "    </tr>\n",
              "    <tr>\n",
              "      <th>58559</th>\n",
              "      <td>5.0</td>\n",
              "      <td>Dark Knight, The (2008)</td>\n",
              "      <td>Action|Crime|Drama|IMAX</td>\n",
              "    </tr>\n",
              "    <tr>\n",
              "      <th>33794</th>\n",
              "      <td>5.0</td>\n",
              "      <td>Batman Begins (2005)</td>\n",
              "      <td>Action|Crime|IMAX</td>\n",
              "    </tr>\n",
              "    <tr>\n",
              "      <th>4993</th>\n",
              "      <td>5.0</td>\n",
              "      <td>Lord of the Rings: The Fellowship of the Ring,...</td>\n",
              "      <td>Adventure|Fantasy</td>\n",
              "    </tr>\n",
              "    <tr>\n",
              "      <th>5349</th>\n",
              "      <td>5.0</td>\n",
              "      <td>Spider-Man (2002)</td>\n",
              "      <td>Action|Adventure|Sci-Fi|Thriller</td>\n",
              "    </tr>\n",
              "  </tbody>\n",
              "</table>\n",
              "</div>"
            ],
            "text/plain": [
              "         nota  ...                           generos\n",
              "filmeId        ...                                  \n",
              "8636      5.0  ...      Action|Adventure|Sci-Fi|IMAX\n",
              "58559     5.0  ...           Action|Crime|Drama|IMAX\n",
              "33794     5.0  ...                 Action|Crime|IMAX\n",
              "4993      5.0  ...                 Adventure|Fantasy\n",
              "5349      5.0  ...  Action|Adventure|Sci-Fi|Thriller\n",
              "\n",
              "[5 rows x 3 columns]"
            ]
          },
          "metadata": {
            "tags": []
          },
          "execution_count": 91
        }
      ]
    },
    {
      "cell_type": "code",
      "metadata": {
        "id": "SQrbvuo4wAEZ",
        "colab_type": "code",
        "colab": {}
      },
      "source": [
        ""
      ],
      "execution_count": 0,
      "outputs": []
    }
  ]
}