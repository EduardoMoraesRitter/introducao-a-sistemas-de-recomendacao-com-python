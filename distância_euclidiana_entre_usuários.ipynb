{
  "nbformat": 4,
  "nbformat_minor": 0,
  "metadata": {
    "colab": {
      "name": "distância euclidiana entre usuários",
      "provenance": [],
      "collapsed_sections": [],
      "authorship_tag": "ABX9TyMfTp0vZuZntoua02Ceflgn",
      "include_colab_link": true
    },
    "kernelspec": {
      "name": "python3",
      "display_name": "Python 3"
    }
  },
  "cells": [
    {
      "cell_type": "markdown",
      "metadata": {
        "id": "view-in-github",
        "colab_type": "text"
      },
      "source": [
        "<a href=\"https://colab.research.google.com/github/EduardoMoraesRitter/introducao-a-sistemas-de-recomendacao-com-python/blob/master/dist%C3%A2ncia_euclidiana_entre_usu%C3%A1rios.ipynb\" target=\"_parent\"><img src=\"https://colab.research.google.com/assets/colab-badge.svg\" alt=\"Open In Colab\"/></a>"
      ]
    },
    {
      "cell_type": "markdown",
      "metadata": {
        "id": "RKJcO8LSVA95",
        "colab_type": "text"
      },
      "source": [
        "#4º Usuarios similares - User Based\n",
        "tanto que gostaram quanto nao gostaram de filmes, calcular a distancia Euclidiana"
      ]
    },
    {
      "cell_type": "code",
      "metadata": {
        "id": "zEqdKwu8OZLh",
        "colab_type": "code",
        "colab": {
          "base_uri": "https://localhost:8080/",
          "height": 67
        },
        "outputId": "f2d45ddb-b7f3-4a8e-924a-2fd927b7b3d4"
      },
      "source": [
        "#quando tenho um unica reta, ou uma dimencao, ou comparando apenas um filme\n",
        "#o joao deu nota 3 matrix e maria deu 4 e jose deu 2\n",
        "joao = [3]\n",
        "maria = [4]\n",
        "jose = [2]\n",
        "#a ditancia é um menos o outro\n",
        "print('entre maria e joao ', maria[0] - joao[0])\n",
        "print('entre jose e maria', jose[0] - maria[0])\n",
        "print('entre joao e jose ', joao[0] - jose[0])"
      ],
      "execution_count": 33,
      "outputs": [
        {
          "output_type": "stream",
          "text": [
            "entre maria e joao  1\n",
            "entre jose e maria -2\n",
            "entre joao e jose  1\n"
          ],
          "name": "stdout"
        }
      ]
    },
    {
      "cell_type": "code",
      "metadata": {
        "id": "B-V9mCWZVnyb",
        "colab_type": "code",
        "colab": {
          "base_uri": "https://localhost:8080/",
          "height": 298
        },
        "outputId": "16dcead1-f8c8-48d5-9949-5c867565b7ed"
      },
      "source": [
        "#agora falando mais de um filme ou mais de uma dimenção ou valor\n",
        "# qual a distancia deles\n",
        "joao = [4, 4.5]\n",
        "maria = [5, 5]\n",
        "\n",
        "import matplotlib.pyplot as plt\n",
        "plt.plot(4,4.5, \"go\")\n",
        "plt.plot(5,5, \"yo\")\n",
        "plt.legend([\"joao\", \"maria\"])\n",
        "plt.title(\"Distancia\")\n",
        "\n",
        "#coloca linha\n",
        "plt.plot([4,5], [4.5, 4.5], color='b', linestyle=\"-\")\n",
        "plt.plot([4,5], [4.5, 5], color='b', linestyle=\"-\")\n",
        "plt.plot([5,5], [4.5, 5], color='b', linestyle=\"-\")"
      ],
      "execution_count": 59,
      "outputs": [
        {
          "output_type": "execute_result",
          "data": {
            "text/plain": [
              "[<matplotlib.lines.Line2D at 0x7fb73359add8>]"
            ]
          },
          "metadata": {
            "tags": []
          },
          "execution_count": 59
        },
        {
          "output_type": "display_data",
          "data": {
            "image/png": "[encoded data removed]",
            "text/plain": [
              "<Figure size 432x288 with 1 Axes>"
            ]
          },
          "metadata": {
            "tags": []
          }
        }
      ]
    },
    {
      "cell_type": "code",
      "metadata": {
        "id": "TZEHAHjJX7y9",
        "colab_type": "code",
        "colab": {
          "base_uri": "https://localhost:8080/",
          "height": 34
        },
        "outputId": "3809e957-68e5-4741-96d1-552612c43d6e"
      },
      "source": [
        "#por padrao nao suporta conta no array\n",
        "import numpy as np\n",
        "joao = np.array([4,4.5])\n",
        "maria = np.array([5,5])\n",
        "joao-maria"
      ],
      "execution_count": 61,
      "outputs": [
        {
          "output_type": "execute_result",
          "data": {
            "text/plain": [
              "array([-1. , -0.5])"
            ]
          },
          "metadata": {
            "tags": []
          },
          "execution_count": 61
        }
      ]
    },
    {
      "cell_type": "code",
      "metadata": {
        "id": "E6K7oyhcZdEc",
        "colab_type": "code",
        "colab": {}
      },
      "source": [
        "from math import sqrt\n",
        "\n",
        "def pitagoras(a, b):\n",
        "  (delta_x, delta_y) = a - b\n",
        "  quadrado_delta_x = delta_x * delta_x\n",
        "  quadrado_delta_y = delta_y * delta_y\n",
        "  hipotenusa = sqrt(quadrado_delta_x + quadrado_delta_y)\n",
        "  return hipotenusa"
      ],
      "execution_count": 0,
      "outputs": []
    },
    {
      "cell_type": "code",
      "metadata": {
        "id": "AYdxSGcqZ-cW",
        "colab_type": "code",
        "colab": {
          "base_uri": "https://localhost:8080/",
          "height": 34
        },
        "outputId": "c966bdf9-61d0-4adb-bd47-64e6144c6e2f"
      },
      "source": [
        "# a distancia entre os dois\n",
        "pitagoras(joao,maria)"
      ],
      "execution_count": 66,
      "outputs": [
        {
          "output_type": "execute_result",
          "data": {
            "text/plain": [
              "1.118033988749895"
            ]
          },
          "metadata": {
            "tags": []
          },
          "execution_count": 66
        }
      ]
    },
    {
      "cell_type": "code",
      "metadata": {
        "id": "m-LFqXuWbj2Q",
        "colab_type": "code",
        "colab": {
          "base_uri": "https://localhost:8080/",
          "height": 34
        },
        "outputId": "a543bff3-f5fb-4f67-e2b1-3f30e20057bf"
      },
      "source": [
        "#no numpy ja tem essa formula\n",
        "np.linalg.norm(joao - maria)"
      ],
      "execution_count": 68,
      "outputs": [
        {
          "output_type": "execute_result",
          "data": {
            "text/plain": [
              "1.118033988749895"
            ]
          },
          "metadata": {
            "tags": []
          },
          "execution_count": 68
        }
      ]
    },
    {
      "cell_type": "code",
      "metadata": {
        "id": "l1OZyCFpcQFc",
        "colab_type": "code",
        "colab": {}
      },
      "source": [
        "def distancia(a, b):\n",
        "  return np.linalg.norm(a - b)"
      ],
      "execution_count": 0,
      "outputs": []
    },
    {
      "cell_type": "code",
      "metadata": {
        "id": "X9QtZDEFdDV5",
        "colab_type": "code",
        "colab": {
          "base_uri": "https://localhost:8080/",
          "height": 50
        },
        "outputId": "8cb32dbb-7f10-4c81-82dc-e9f7d0018404"
      },
      "source": [
        "#quem é mais parecido de jose, compara esse usuario com todos\n",
        "jose = np.array([3.5,4.5])\n",
        "print(distancia(jose, maria))\n",
        "print(distancia(jose, joao))"
      ],
      "execution_count": 71,
      "outputs": [
        {
          "output_type": "stream",
          "text": [
            "1.5811388300841898\n",
            "0.5\n"
          ],
          "name": "stdout"
        }
      ]
    },
    {
      "cell_type": "markdown",
      "metadata": {
        "id": "fGWzQcYveEvT",
        "colab_type": "text"
      },
      "source": [
        "Primeiro extrair as notas"
      ]
    },
    {
      "cell_type": "code",
      "metadata": {
        "id": "7G0OmSKZdYJe",
        "colab_type": "code",
        "colab": {}
      },
      "source": [
        "import pandas as pd\n",
        "\n",
        "filmes = pd.read_csv('movies.csv')\n",
        "notas = pd.read_csv('ratings.csv')\n",
        "\n",
        "filmes.columns = ['filmeId', 'titulo', 'generos']\n",
        "filmes = filmes.set_index('filmeId')\n",
        "notas.columns = ['usuarioId', 'filmeId', 'nota', 'momento']"
      ],
      "execution_count": 0,
      "outputs": []
    },
    {
      "cell_type": "code",
      "metadata": {
        "id": "nzLX2VibeL0Y",
        "colab_type": "code",
        "colab": {
          "base_uri": "https://localhost:8080/",
          "height": 431
        },
        "outputId": "bb7c5896-6b3a-4cce-dbd9-79af8187261a"
      },
      "source": [
        "#filtar um usuario, pegar duas coluna, colocar com indice\n",
        "notas_usuario = notas.query('usuarioId==1')\n",
        "notas_usuario = notas_usuario[['filmeId', 'nota']].set_index(\"filmeId\")\n",
        "notas_usuario"
      ],
      "execution_count": 79,
      "outputs": [
        {
          "output_type": "execute_result",
          "data": {
            "text/html": [
              "<div>\n",
              "<style scoped>\n",
              "    .dataframe tbody tr th:only-of-type {\n",
              "        vertical-align: middle;\n",
              "    }\n",
              "\n",
              "    .dataframe tbody tr th {\n",
              "        vertical-align: top;\n",
              "    }\n",
              "\n",
              "    .dataframe thead th {\n",
              "        text-align: right;\n",
              "    }\n",
              "</style>\n",
              "<table border=\"1\" class=\"dataframe\">\n",
              "  <thead>\n",
              "    <tr style=\"text-align: right;\">\n",
              "      <th></th>\n",
              "      <th>nota</th>\n",
              "    </tr>\n",
              "    <tr>\n",
              "      <th>filmeId</th>\n",
              "      <th></th>\n",
              "    </tr>\n",
              "  </thead>\n",
              "  <tbody>\n",
              "    <tr>\n",
              "      <th>1</th>\n",
              "      <td>4.0</td>\n",
              "    </tr>\n",
              "    <tr>\n",
              "      <th>3</th>\n",
              "      <td>4.0</td>\n",
              "    </tr>\n",
              "    <tr>\n",
              "      <th>6</th>\n",
              "      <td>4.0</td>\n",
              "    </tr>\n",
              "    <tr>\n",
              "      <th>47</th>\n",
              "      <td>5.0</td>\n",
              "    </tr>\n",
              "    <tr>\n",
              "      <th>50</th>\n",
              "      <td>5.0</td>\n",
              "    </tr>\n",
              "    <tr>\n",
              "      <th>...</th>\n",
              "      <td>...</td>\n",
              "    </tr>\n",
              "    <tr>\n",
              "      <th>3744</th>\n",
              "      <td>4.0</td>\n",
              "    </tr>\n",
              "    <tr>\n",
              "      <th>3793</th>\n",
              "      <td>5.0</td>\n",
              "    </tr>\n",
              "    <tr>\n",
              "      <th>3809</th>\n",
              "      <td>4.0</td>\n",
              "    </tr>\n",
              "    <tr>\n",
              "      <th>4006</th>\n",
              "      <td>4.0</td>\n",
              "    </tr>\n",
              "    <tr>\n",
              "      <th>5060</th>\n",
              "      <td>5.0</td>\n",
              "    </tr>\n",
              "  </tbody>\n",
              "</table>\n",
              "<p>232 rows × 1 columns</p>\n",
              "</div>"
            ],
            "text/plain": [
              "         nota\n",
              "filmeId      \n",
              "1         4.0\n",
              "3         4.0\n",
              "6         4.0\n",
              "47        5.0\n",
              "50        5.0\n",
              "...       ...\n",
              "3744      4.0\n",
              "3793      5.0\n",
              "3809      4.0\n",
              "4006      4.0\n",
              "5060      5.0\n",
              "\n",
              "[232 rows x 1 columns]"
            ]
          },
          "metadata": {
            "tags": []
          },
          "execution_count": 79
        }
      ]
    },
    {
      "cell_type": "code",
      "metadata": {
        "id": "PZBVT3Vmeqvu",
        "colab_type": "code",
        "colab": {}
      },
      "source": [
        "def notas_usuario(usuarioId):\n",
        "    notas_usuario = notas.query('usuarioId==%d' % usuarioId)\n",
        "    notas_usuario = notas_usuario[['filmeId', 'nota']].set_index(\"filmeId\")\n",
        "    return notas_usuario"
      ],
      "execution_count": 0,
      "outputs": []
    },
    {
      "cell_type": "code",
      "metadata": {
        "id": "-zYgiGOBfX03",
        "colab_type": "code",
        "colab": {
          "base_uri": "https://localhost:8080/",
          "height": 252
        },
        "outputId": "4a24c2e9-8734-4a0e-b294-deba150dab8f"
      },
      "source": [
        "u1 = notas_usuario(1)\n",
        "u4 = notas_usuario(4)\n",
        "print(u1.head())\n",
        "print(u4.head())"
      ],
      "execution_count": 82,
      "outputs": [
        {
          "output_type": "stream",
          "text": [
            "         nota\n",
            "filmeId      \n",
            "1         4.0\n",
            "3         4.0\n",
            "6         4.0\n",
            "47        5.0\n",
            "50        5.0\n",
            "         nota\n",
            "filmeId      \n",
            "21        3.0\n",
            "32        2.0\n",
            "45        3.0\n",
            "47        2.0\n",
            "52        3.0\n"
          ],
          "name": "stdout"
        }
      ]
    },
    {
      "cell_type": "code",
      "metadata": {
        "id": "89Aj-Pf2fb4r",
        "colab_type": "code",
        "colab": {
          "base_uri": "https://localhost:8080/",
          "height": 431
        },
        "outputId": "c368eb3f-06e1-43d5-daa3-b15f7b00657b"
      },
      "source": [
        "#junta as lista pelo indice para comparar, mudar os nomes das coluna para nao dar over lap\n",
        "u1.join(u4, lsuffix=\"u_esq\", rsuffix=\"u_dir\")"
      ],
      "execution_count": 84,
      "outputs": [
        {
          "output_type": "execute_result",
          "data": {
            "text/html": [
              "<div>\n",
              "<style scoped>\n",
              "    .dataframe tbody tr th:only-of-type {\n",
              "        vertical-align: middle;\n",
              "    }\n",
              "\n",
              "    .dataframe tbody tr th {\n",
              "        vertical-align: top;\n",
              "    }\n",
              "\n",
              "    .dataframe thead th {\n",
              "        text-align: right;\n",
              "    }\n",
              "</style>\n",
              "<table border=\"1\" class=\"dataframe\">\n",
              "  <thead>\n",
              "    <tr style=\"text-align: right;\">\n",
              "      <th></th>\n",
              "      <th>notau_esq</th>\n",
              "      <th>notau_dir</th>\n",
              "    </tr>\n",
              "    <tr>\n",
              "      <th>filmeId</th>\n",
              "      <th></th>\n",
              "      <th></th>\n",
              "    </tr>\n",
              "  </thead>\n",
              "  <tbody>\n",
              "    <tr>\n",
              "      <th>1</th>\n",
              "      <td>4.0</td>\n",
              "      <td>NaN</td>\n",
              "    </tr>\n",
              "    <tr>\n",
              "      <th>3</th>\n",
              "      <td>4.0</td>\n",
              "      <td>NaN</td>\n",
              "    </tr>\n",
              "    <tr>\n",
              "      <th>6</th>\n",
              "      <td>4.0</td>\n",
              "      <td>NaN</td>\n",
              "    </tr>\n",
              "    <tr>\n",
              "      <th>47</th>\n",
              "      <td>5.0</td>\n",
              "      <td>2.0</td>\n",
              "    </tr>\n",
              "    <tr>\n",
              "      <th>50</th>\n",
              "      <td>5.0</td>\n",
              "      <td>NaN</td>\n",
              "    </tr>\n",
              "    <tr>\n",
              "      <th>...</th>\n",
              "      <td>...</td>\n",
              "      <td>...</td>\n",
              "    </tr>\n",
              "    <tr>\n",
              "      <th>3744</th>\n",
              "      <td>4.0</td>\n",
              "      <td>NaN</td>\n",
              "    </tr>\n",
              "    <tr>\n",
              "      <th>3793</th>\n",
              "      <td>5.0</td>\n",
              "      <td>NaN</td>\n",
              "    </tr>\n",
              "    <tr>\n",
              "      <th>3809</th>\n",
              "      <td>4.0</td>\n",
              "      <td>3.0</td>\n",
              "    </tr>\n",
              "    <tr>\n",
              "      <th>4006</th>\n",
              "      <td>4.0</td>\n",
              "      <td>NaN</td>\n",
              "    </tr>\n",
              "    <tr>\n",
              "      <th>5060</th>\n",
              "      <td>5.0</td>\n",
              "      <td>NaN</td>\n",
              "    </tr>\n",
              "  </tbody>\n",
              "</table>\n",
              "<p>232 rows × 2 columns</p>\n",
              "</div>"
            ],
            "text/plain": [
              "         notau_esq  notau_dir\n",
              "filmeId                      \n",
              "1              4.0        NaN\n",
              "3              4.0        NaN\n",
              "6              4.0        NaN\n",
              "47             5.0        2.0\n",
              "50             5.0        NaN\n",
              "...            ...        ...\n",
              "3744           4.0        NaN\n",
              "3793           5.0        NaN\n",
              "3809           4.0        3.0\n",
              "4006           4.0        NaN\n",
              "5060           5.0        NaN\n",
              "\n",
              "[232 rows x 2 columns]"
            ]
          },
          "metadata": {
            "tags": []
          },
          "execution_count": 84
        }
      ]
    },
    {
      "cell_type": "code",
      "metadata": {
        "id": "kuft25w0gXlT",
        "colab_type": "code",
        "colab": {}
      },
      "source": [
        ""
      ],
      "execution_count": 0,
      "outputs": []
    }
  ]
}