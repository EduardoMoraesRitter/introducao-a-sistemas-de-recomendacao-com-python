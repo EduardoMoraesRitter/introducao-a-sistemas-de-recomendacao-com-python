{
  "nbformat": 4,
  "nbformat_minor": 0,
  "metadata": {
    "colab": {
      "name": "distância euclidiana entre usuários",
      "provenance": [],
      "collapsed_sections": [],
      "authorship_tag": "ABX9TyOR/KC0HzvwYB+gDdv2sI81",
      "include_colab_link": true
    },
    "kernelspec": {
      "name": "python3",
      "display_name": "Python 3"
    }
  },
  "cells": [
    {
      "cell_type": "markdown",
      "metadata": {
        "id": "view-in-github",
        "colab_type": "text"
      },
      "source": [
        "<a href=\"https://colab.research.google.com/github/EduardoMoraesRitter/introducao-a-sistemas-de-recomendacao-com-python/blob/master/dist%C3%A2ncia_euclidiana_entre_usu%C3%A1rios.ipynb\" target=\"_parent\"><img src=\"https://colab.research.google.com/assets/colab-badge.svg\" alt=\"Open In Colab\"/></a>"
      ]
    },
    {
      "cell_type": "markdown",
      "metadata": {
        "id": "RKJcO8LSVA95",
        "colab_type": "text"
      },
      "source": [
        "#4º Usuarios similares - User Based\n",
        "tanto que gostaram quanto nao gostaram de filmes, calcular a distancia Euclidiana"
      ]
    },
    {
      "cell_type": "code",
      "metadata": {
        "id": "zEqdKwu8OZLh",
        "colab_type": "code",
        "colab": {
          "base_uri": "https://localhost:8080/",
          "height": 67
        },
        "outputId": "8c630646-debe-4996-d922-705edc7e67d9"
      },
      "source": [
        "#quando tenho um unica reta, ou uma dimencao, ou comparando apenas um filme\n",
        "#o joao deu nota 3 matrix e maria deu 4 e jose deu 2\n",
        "joao = [3]\n",
        "maria = [4]\n",
        "jose = [2]\n",
        "#a ditancia é um menos o outro\n",
        "print('entre maria e joao ', maria[0] - joao[0])\n",
        "print('entre jose e maria', jose[0] - maria[0])\n",
        "print('entre joao e jose ', joao[0] - jose[0])"
      ],
      "execution_count": 2,
      "outputs": [
        {
          "output_type": "stream",
          "text": [
            "entre maria e joao  1\n",
            "entre jose e maria -2\n",
            "entre joao e jose  1\n"
          ],
          "name": "stdout"
        }
      ]
    },
    {
      "cell_type": "code",
      "metadata": {
        "id": "B-V9mCWZVnyb",
        "colab_type": "code",
        "colab": {
          "base_uri": "https://localhost:8080/",
          "height": 298
        },
        "outputId": "de073eb5-ed58-48fb-ae7f-ab258911e019"
      },
      "source": [
        "#agora falando mais de um filme ou mais de uma dimenção ou valor\n",
        "# qual a distancia deles\n",
        "joao = [4, 4.5]\n",
        "maria = [5, 5]\n",
        "\n",
        "import matplotlib.pyplot as plt\n",
        "plt.plot(4,4.5, \"go\")\n",
        "plt.plot(5,5, \"yo\")\n",
        "plt.legend([\"joao\", \"maria\"])\n",
        "plt.title(\"Distancia\")\n",
        "\n",
        "#coloca linha\n",
        "plt.plot([4,5], [4.5, 4.5], color='b', linestyle=\"-\")\n",
        "plt.plot([4,5], [4.5, 5], color='b', linestyle=\"-\")\n",
        "plt.plot([5,5], [4.5, 5], color='b', linestyle=\"-\")"
      ],
      "execution_count": 3,
      "outputs": [
        {
          "output_type": "execute_result",
          "data": {
            "text/plain": [
              "[<matplotlib.lines.Line2D at 0x7efdcf0f0518>]"
            ]
          },
          "metadata": {
            "tags": []
          },
          "execution_count": 3
        },
        {
          "output_type": "display_data",
          "data": {
            "image/png": "[encoded data removed]",
            "text/plain": [
              "<Figure size 432x288 with 1 Axes>"
            ]
          },
          "metadata": {
            "tags": []
          }
        }
      ]
    },
    {
      "cell_type": "code",
      "metadata": {
        "id": "TZEHAHjJX7y9",
        "colab_type": "code",
        "colab": {
          "base_uri": "https://localhost:8080/",
          "height": 34
        },
        "outputId": "b19c83a8-ad3e-4c33-f43d-02d51071af46"
      },
      "source": [
        "#por padrao nao suporta conta no array\n",
        "import numpy as np\n",
        "joao = np.array([4,4.5])\n",
        "maria = np.array([5,5])\n",
        "joao-maria"
      ],
      "execution_count": 4,
      "outputs": [
        {
          "output_type": "execute_result",
          "data": {
            "text/plain": [
              "array([-1. , -0.5])"
            ]
          },
          "metadata": {
            "tags": []
          },
          "execution_count": 4
        }
      ]
    },
    {
      "cell_type": "code",
      "metadata": {
        "id": "E6K7oyhcZdEc",
        "colab_type": "code",
        "colab": {}
      },
      "source": [
        "from math import sqrt\n",
        "\n",
        "def pitagoras(a, b):\n",
        "  (delta_x, delta_y) = a - b\n",
        "  quadrado_delta_x = delta_x * delta_x\n",
        "  quadrado_delta_y = delta_y * delta_y\n",
        "  hipotenusa = sqrt(quadrado_delta_x + quadrado_delta_y)\n",
        "  return hipotenusa"
      ],
      "execution_count": 0,
      "outputs": []
    },
    {
      "cell_type": "code",
      "metadata": {
        "id": "AYdxSGcqZ-cW",
        "colab_type": "code",
        "colab": {
          "base_uri": "https://localhost:8080/",
          "height": 34
        },
        "outputId": "12037753-a8ee-45ed-c433-b3f52bb975c4"
      },
      "source": [
        "# a distancia entre os dois\n",
        "pitagoras(joao,maria)"
      ],
      "execution_count": 6,
      "outputs": [
        {
          "output_type": "execute_result",
          "data": {
            "text/plain": [
              "1.118033988749895"
            ]
          },
          "metadata": {
            "tags": []
          },
          "execution_count": 6
        }
      ]
    },
    {
      "cell_type": "code",
      "metadata": {
        "id": "m-LFqXuWbj2Q",
        "colab_type": "code",
        "colab": {
          "base_uri": "https://localhost:8080/",
          "height": 34
        },
        "outputId": "751286ea-8f26-47b1-b813-6b2f25797dff"
      },
      "source": [
        "#no numpy ja tem essa formula\n",
        "np.linalg.norm(joao - maria)"
      ],
      "execution_count": 7,
      "outputs": [
        {
          "output_type": "execute_result",
          "data": {
            "text/plain": [
              "1.118033988749895"
            ]
          },
          "metadata": {
            "tags": []
          },
          "execution_count": 7
        }
      ]
    },
    {
      "cell_type": "code",
      "metadata": {
        "id": "l1OZyCFpcQFc",
        "colab_type": "code",
        "colab": {}
      },
      "source": [
        "def distancia_vetor(a, b):\n",
        "  return np.linalg.norm(a - b)"
      ],
      "execution_count": 0,
      "outputs": []
    },
    {
      "cell_type": "code",
      "metadata": {
        "id": "X9QtZDEFdDV5",
        "colab_type": "code",
        "colab": {
          "base_uri": "https://localhost:8080/",
          "height": 50
        },
        "outputId": "1b143a52-693f-4504-e832-da023e8a2a4d"
      },
      "source": [
        "#quem é mais parecido de jose, compara esse usuario com todos\n",
        "jose = np.array([3.5,4.5])\n",
        "print(distancia_vetor(jose, maria))\n",
        "print(distancia_vetor(jose, joao))"
      ],
      "execution_count": 9,
      "outputs": [
        {
          "output_type": "stream",
          "text": [
            "1.5811388300841898\n",
            "0.5\n"
          ],
          "name": "stdout"
        }
      ]
    },
    {
      "cell_type": "markdown",
      "metadata": {
        "id": "fGWzQcYveEvT",
        "colab_type": "text"
      },
      "source": [
        "#Primeiro extrair as notas, ditancia dos usuario do dataset"
      ]
    },
    {
      "cell_type": "code",
      "metadata": {
        "id": "7G0OmSKZdYJe",
        "colab_type": "code",
        "colab": {}
      },
      "source": [
        "import pandas as pd\n",
        "\n",
        "filmes = pd.read_csv('movies.csv')\n",
        "notas = pd.read_csv('ratings.csv')\n",
        "\n",
        "filmes.columns = ['filmeId', 'titulo', 'generos']\n",
        "filmes = filmes.set_index('filmeId')\n",
        "notas.columns = ['usuarioId', 'filmeId', 'nota', 'momento']"
      ],
      "execution_count": 0,
      "outputs": []
    },
    {
      "cell_type": "code",
      "metadata": {
        "id": "nzLX2VibeL0Y",
        "colab_type": "code",
        "colab": {
          "base_uri": "https://localhost:8080/",
          "height": 431
        },
        "outputId": "d7cf28c7-8636-47f2-cb0d-a272dfe5f5b4"
      },
      "source": [
        "#filtar um usuario, pegar duas coluna, colocar com indice\n",
        "notas_usuario = notas.query('usuarioId==1')\n",
        "notas_usuario = notas_usuario[['filmeId', 'nota']].set_index(\"filmeId\")\n",
        "notas_usuario"
      ],
      "execution_count": 11,
      "outputs": [
        {
          "output_type": "execute_result",
          "data": {
            "text/html": [
              "<div>\n",
              "<style scoped>\n",
              "    .dataframe tbody tr th:only-of-type {\n",
              "        vertical-align: middle;\n",
              "    }\n",
              "\n",
              "    .dataframe tbody tr th {\n",
              "        vertical-align: top;\n",
              "    }\n",
              "\n",
              "    .dataframe thead th {\n",
              "        text-align: right;\n",
              "    }\n",
              "</style>\n",
              "<table border=\"1\" class=\"dataframe\">\n",
              "  <thead>\n",
              "    <tr style=\"text-align: right;\">\n",
              "      <th></th>\n",
              "      <th>nota</th>\n",
              "    </tr>\n",
              "    <tr>\n",
              "      <th>filmeId</th>\n",
              "      <th></th>\n",
              "    </tr>\n",
              "  </thead>\n",
              "  <tbody>\n",
              "    <tr>\n",
              "      <th>1</th>\n",
              "      <td>4.0</td>\n",
              "    </tr>\n",
              "    <tr>\n",
              "      <th>3</th>\n",
              "      <td>4.0</td>\n",
              "    </tr>\n",
              "    <tr>\n",
              "      <th>6</th>\n",
              "      <td>4.0</td>\n",
              "    </tr>\n",
              "    <tr>\n",
              "      <th>47</th>\n",
              "      <td>5.0</td>\n",
              "    </tr>\n",
              "    <tr>\n",
              "      <th>50</th>\n",
              "      <td>5.0</td>\n",
              "    </tr>\n",
              "    <tr>\n",
              "      <th>...</th>\n",
              "      <td>...</td>\n",
              "    </tr>\n",
              "    <tr>\n",
              "      <th>3744</th>\n",
              "      <td>4.0</td>\n",
              "    </tr>\n",
              "    <tr>\n",
              "      <th>3793</th>\n",
              "      <td>5.0</td>\n",
              "    </tr>\n",
              "    <tr>\n",
              "      <th>3809</th>\n",
              "      <td>4.0</td>\n",
              "    </tr>\n",
              "    <tr>\n",
              "      <th>4006</th>\n",
              "      <td>4.0</td>\n",
              "    </tr>\n",
              "    <tr>\n",
              "      <th>5060</th>\n",
              "      <td>5.0</td>\n",
              "    </tr>\n",
              "  </tbody>\n",
              "</table>\n",
              "<p>232 rows × 1 columns</p>\n",
              "</div>"
            ],
            "text/plain": [
              "         nota\n",
              "filmeId      \n",
              "1         4.0\n",
              "3         4.0\n",
              "6         4.0\n",
              "47        5.0\n",
              "50        5.0\n",
              "...       ...\n",
              "3744      4.0\n",
              "3793      5.0\n",
              "3809      4.0\n",
              "4006      4.0\n",
              "5060      5.0\n",
              "\n",
              "[232 rows x 1 columns]"
            ]
          },
          "metadata": {
            "tags": []
          },
          "execution_count": 11
        }
      ]
    },
    {
      "cell_type": "code",
      "metadata": {
        "id": "PZBVT3Vmeqvu",
        "colab_type": "code",
        "colab": {}
      },
      "source": [
        "def notas_usuario(usuarioId):\n",
        "    notas_usuario = notas.query('usuarioId==%d' % usuarioId)\n",
        "    notas_usuario = notas_usuario[['filmeId', 'nota']].set_index(\"filmeId\")\n",
        "    return notas_usuario"
      ],
      "execution_count": 0,
      "outputs": []
    },
    {
      "cell_type": "code",
      "metadata": {
        "id": "-zYgiGOBfX03",
        "colab_type": "code",
        "colab": {
          "base_uri": "https://localhost:8080/",
          "height": 252
        },
        "outputId": "a94b4176-03c4-4591-c5e1-93fd180ccdb3"
      },
      "source": [
        "u1 = notas_usuario(1)\n",
        "u4 = notas_usuario(4)\n",
        "print(u1.head())\n",
        "print(u4.head())"
      ],
      "execution_count": 13,
      "outputs": [
        {
          "output_type": "stream",
          "text": [
            "         nota\n",
            "filmeId      \n",
            "1         4.0\n",
            "3         4.0\n",
            "6         4.0\n",
            "47        5.0\n",
            "50        5.0\n",
            "         nota\n",
            "filmeId      \n",
            "21        3.0\n",
            "32        2.0\n",
            "45        3.0\n",
            "47        2.0\n",
            "52        3.0\n"
          ],
          "name": "stdout"
        }
      ]
    },
    {
      "cell_type": "code",
      "metadata": {
        "id": "89Aj-Pf2fb4r",
        "colab_type": "code",
        "colab": {
          "base_uri": "https://localhost:8080/",
          "height": 225
        },
        "outputId": "0f9a926a-c7db-4b58-f1ca-4c2a5ca09bb0"
      },
      "source": [
        "#junta as lista pelo indice para comparar, mudar os nomes das coluna para nao dar over lap, e remover o NDA deixa apenas os filmes que os dois viram\n",
        "distancias = u1.join(u4, lsuffix=\"u_esq\", rsuffix=\"u_dir\").dropna()\n",
        "distancias.head()"
      ],
      "execution_count": 14,
      "outputs": [
        {
          "output_type": "execute_result",
          "data": {
            "text/html": [
              "<div>\n",
              "<style scoped>\n",
              "    .dataframe tbody tr th:only-of-type {\n",
              "        vertical-align: middle;\n",
              "    }\n",
              "\n",
              "    .dataframe tbody tr th {\n",
              "        vertical-align: top;\n",
              "    }\n",
              "\n",
              "    .dataframe thead th {\n",
              "        text-align: right;\n",
              "    }\n",
              "</style>\n",
              "<table border=\"1\" class=\"dataframe\">\n",
              "  <thead>\n",
              "    <tr style=\"text-align: right;\">\n",
              "      <th></th>\n",
              "      <th>notau_esq</th>\n",
              "      <th>notau_dir</th>\n",
              "    </tr>\n",
              "    <tr>\n",
              "      <th>filmeId</th>\n",
              "      <th></th>\n",
              "      <th></th>\n",
              "    </tr>\n",
              "  </thead>\n",
              "  <tbody>\n",
              "    <tr>\n",
              "      <th>47</th>\n",
              "      <td>5.0</td>\n",
              "      <td>2.0</td>\n",
              "    </tr>\n",
              "    <tr>\n",
              "      <th>235</th>\n",
              "      <td>4.0</td>\n",
              "      <td>2.0</td>\n",
              "    </tr>\n",
              "    <tr>\n",
              "      <th>260</th>\n",
              "      <td>5.0</td>\n",
              "      <td>5.0</td>\n",
              "    </tr>\n",
              "    <tr>\n",
              "      <th>296</th>\n",
              "      <td>3.0</td>\n",
              "      <td>1.0</td>\n",
              "    </tr>\n",
              "    <tr>\n",
              "      <th>441</th>\n",
              "      <td>4.0</td>\n",
              "      <td>1.0</td>\n",
              "    </tr>\n",
              "  </tbody>\n",
              "</table>\n",
              "</div>"
            ],
            "text/plain": [
              "         notau_esq  notau_dir\n",
              "filmeId                      \n",
              "47             5.0        2.0\n",
              "235            4.0        2.0\n",
              "260            5.0        5.0\n",
              "296            3.0        1.0\n",
              "441            4.0        1.0"
            ]
          },
          "metadata": {
            "tags": []
          },
          "execution_count": 14
        }
      ]
    },
    {
      "cell_type": "code",
      "metadata": {
        "id": "kuft25w0gXlT",
        "colab_type": "code",
        "colab": {
          "base_uri": "https://localhost:8080/",
          "height": 34
        },
        "outputId": "6f72d2df-3f30-410f-f777-e238a8b5ef65"
      },
      "source": [
        "#calcular a distancia do vetor\n",
        "distancia_vetor(distancias['notau_esq'], distancias['notau_dir'])"
      ],
      "execution_count": 19,
      "outputs": [
        {
          "output_type": "execute_result",
          "data": {
            "text/plain": [
              "11.135528725660043"
            ]
          },
          "metadata": {
            "tags": []
          },
          "execution_count": 19
        }
      ]
    },
    {
      "cell_type": "code",
      "metadata": {
        "id": "N5ZyTbeNhpAR",
        "colab_type": "code",
        "colab": {}
      },
      "source": [
        "#agora simplificar em funcao para fazer de maneira mais simples\n",
        "def distancia_usuarios(uId1,uId2):\n",
        "  u1N = notas_usuario(uId1)\n",
        "  u2N = notas_usuario(uId2)\n",
        "  distancias = u1N.join(u2N, lsuffix=\"u_esq\", rsuffix=\"u_dir\").dropna()\n",
        "  distancia_usu1_usu2 = distancia_vetor(distancias['notau_esq'], distancias['notau_dir'])\n",
        "  return [uId1, uId2, distancia_usu1_usu2]"
      ],
      "execution_count": 0,
      "outputs": []
    },
    {
      "cell_type": "code",
      "metadata": {
        "id": "5uqmlxKhjBZ7",
        "colab_type": "code",
        "colab": {
          "base_uri": "https://localhost:8080/",
          "height": 34
        },
        "outputId": "81f49bc7-2904-4282-9d11-95b4a5bf3634"
      },
      "source": [
        "distancia_usuarios(1,4)"
      ],
      "execution_count": 21,
      "outputs": [
        {
          "output_type": "execute_result",
          "data": {
            "text/plain": [
              "[1, 4, 11.135528725660043]"
            ]
          },
          "metadata": {
            "tags": []
          },
          "execution_count": 21
        }
      ]
    },
    {
      "cell_type": "markdown",
      "metadata": {
        "id": "DvqmbE6y28wJ",
        "colab_type": "text"
      },
      "source": [
        "O sistema compara com todos os usuarios"
      ]
    },
    {
      "cell_type": "code",
      "metadata": {
        "id": "1NHtN7Ay28Ft",
        "colab_type": "code",
        "colab": {
          "base_uri": "https://localhost:8080/",
          "height": 34
        },
        "outputId": "e25e10c1-3c7d-4d5d-f7cf-9e4f59152287"
      },
      "source": [
        "quantidade_usuarios = len(notas['usuarioId'].unique())\n",
        "quantidade_usuarios"
      ],
      "execution_count": 22,
      "outputs": [
        {
          "output_type": "execute_result",
          "data": {
            "text/plain": [
              "610"
            ]
          },
          "metadata": {
            "tags": []
          },
          "execution_count": 22
        }
      ]
    },
    {
      "cell_type": "code",
      "metadata": {
        "id": "5dj0UFAK3JLx",
        "colab_type": "code",
        "colab": {
          "base_uri": "https://localhost:8080/",
          "height": 101
        },
        "outputId": "4bcdb56f-a214-4fd8-e2c9-6d11e97179cf"
      },
      "source": [
        "#um loop para percorar todos os usuario comparado com um cara\n",
        "\n",
        "vc = 1\n",
        "\n",
        "todas_distancias = []\n",
        "\n",
        "for usuario_id in notas['usuarioId'].unique():\n",
        "  #print(usuario_id)\n",
        "  info = distancia_usuarios(vc,usuario_id)\n",
        "  #print(info)\n",
        "  todas_distancias.append(info)\n",
        "\n",
        "todas_distancias[:5]"
      ],
      "execution_count": 23,
      "outputs": [
        {
          "output_type": "execute_result",
          "data": {
            "text/plain": [
              "[[1, 1, 0.0],\n",
              " [1, 2, 1.4142135623730951],\n",
              " [1, 3, 8.200609733428363],\n",
              " [1, 4, 11.135528725660043],\n",
              " [1, 5, 3.7416573867739413]]"
            ]
          },
          "metadata": {
            "tags": []
          },
          "execution_count": 23
        }
      ]
    },
    {
      "cell_type": "code",
      "metadata": {
        "id": "NDLgNC1p4tm_",
        "colab_type": "code",
        "colab": {
          "base_uri": "https://localhost:8080/",
          "height": 101
        },
        "outputId": "b387c077-c99a-40e5-de3d-e1591617ebd3"
      },
      "source": [
        "#criando uma lista\n",
        "def ditancia_todos(vc):\n",
        "  todas_distancias = []\n",
        "  for usuario_id in notas['usuarioId'].unique():\n",
        "    info = distancia_usuarios(vc,usuario_id)\n",
        "    todas_distancias.append(info)\n",
        "  return todas_distancias\n",
        "\n",
        "ditancia_todos(1)[:5]"
      ],
      "execution_count": 24,
      "outputs": [
        {
          "output_type": "execute_result",
          "data": {
            "text/plain": [
              "[[1, 1, 0.0],\n",
              " [1, 2, 1.4142135623730951],\n",
              " [1, 3, 8.200609733428363],\n",
              " [1, 4, 11.135528725660043],\n",
              " [1, 5, 3.7416573867739413]]"
            ]
          },
          "metadata": {
            "tags": []
          },
          "execution_count": 24
        }
      ]
    },
    {
      "cell_type": "code",
      "metadata": {
        "id": "Y9TiGm2j5wCU",
        "colab_type": "code",
        "colab": {
          "base_uri": "https://localhost:8080/",
          "height": 101
        },
        "outputId": "93b40fdc-60a8-46c2-d4e1-cc326a647ca8"
      },
      "source": [
        "#ou para simplificar criando uma lista\n",
        "def ditancia_todos(vc):\n",
        "  return [distancia_usuarios(vc,usuario_id) for usuario_id in notas['usuarioId'].unique()]\n",
        "\n",
        "ditancia_todos(1)[:5]"
      ],
      "execution_count": 25,
      "outputs": [
        {
          "output_type": "execute_result",
          "data": {
            "text/plain": [
              "[[1, 1, 0.0],\n",
              " [1, 2, 1.4142135623730951],\n",
              " [1, 3, 8.200609733428363],\n",
              " [1, 4, 11.135528725660043],\n",
              " [1, 5, 3.7416573867739413]]"
            ]
          },
          "metadata": {
            "tags": []
          },
          "execution_count": 25
        }
      ]
    },
    {
      "cell_type": "code",
      "metadata": {
        "id": "FjkBGpcW6eeG",
        "colab_type": "code",
        "colab": {
          "base_uri": "https://localhost:8080/",
          "height": 195
        },
        "outputId": "62ee0d97-ef21-4ca1-d84a-8831fd3048f1"
      },
      "source": [
        "#criando dataframe\n",
        "def distancia_todos(vc):\n",
        "  distancias = [distancia_usuarios(vc,usuario_id) for usuario_id in notas['usuarioId'].unique()]\n",
        "  distancias = pd.DataFrame(distancias, columns = [\"voce\", \"outro\", \"distancia\"])\n",
        "  return distancias\n",
        "ditancia_usu1_todos = distancia_todos(1)\n",
        "ditancia_usu1_todos.head()"
      ],
      "execution_count": 43,
      "outputs": [
        {
          "output_type": "execute_result",
          "data": {
            "text/html": [
              "<div>\n",
              "<style scoped>\n",
              "    .dataframe tbody tr th:only-of-type {\n",
              "        vertical-align: middle;\n",
              "    }\n",
              "\n",
              "    .dataframe tbody tr th {\n",
              "        vertical-align: top;\n",
              "    }\n",
              "\n",
              "    .dataframe thead th {\n",
              "        text-align: right;\n",
              "    }\n",
              "</style>\n",
              "<table border=\"1\" class=\"dataframe\">\n",
              "  <thead>\n",
              "    <tr style=\"text-align: right;\">\n",
              "      <th></th>\n",
              "      <th>voce</th>\n",
              "      <th>outro</th>\n",
              "      <th>distancia</th>\n",
              "    </tr>\n",
              "  </thead>\n",
              "  <tbody>\n",
              "    <tr>\n",
              "      <th>0</th>\n",
              "      <td>1</td>\n",
              "      <td>1</td>\n",
              "      <td>0.000000</td>\n",
              "    </tr>\n",
              "    <tr>\n",
              "      <th>1</th>\n",
              "      <td>1</td>\n",
              "      <td>2</td>\n",
              "      <td>100000.000000</td>\n",
              "    </tr>\n",
              "    <tr>\n",
              "      <th>2</th>\n",
              "      <td>1</td>\n",
              "      <td>3</td>\n",
              "      <td>8.200610</td>\n",
              "    </tr>\n",
              "    <tr>\n",
              "      <th>3</th>\n",
              "      <td>1</td>\n",
              "      <td>4</td>\n",
              "      <td>11.135529</td>\n",
              "    </tr>\n",
              "    <tr>\n",
              "      <th>4</th>\n",
              "      <td>1</td>\n",
              "      <td>5</td>\n",
              "      <td>3.741657</td>\n",
              "    </tr>\n",
              "  </tbody>\n",
              "</table>\n",
              "</div>"
            ],
            "text/plain": [
              "   voce  outro      distancia\n",
              "0     1      1       0.000000\n",
              "1     1      2  100000.000000\n",
              "2     1      3       8.200610\n",
              "3     1      4      11.135529\n",
              "4     1      5       3.741657"
            ]
          },
          "metadata": {
            "tags": []
          },
          "execution_count": 43
        }
      ]
    },
    {
      "cell_type": "markdown",
      "metadata": {
        "id": "ppuK2kGd8IHg",
        "colab_type": "text"
      },
      "source": [
        "#usuarios com nada em comum são colocado distante\n",
        "distancia entre um ponto e ele mesmo é zero, tbm a distancia entra pessoas que nao assistiram nada tbm zero pq eles nao tem nada em comum.\n",
        "\n",
        "assim podemos ter um minimo de filme em comum."
      ]
    },
    {
      "cell_type": "code",
      "metadata": {
        "id": "zOYQX0fve1U9",
        "colab_type": "code",
        "colab": {
          "base_uri": "https://localhost:8080/",
          "height": 402
        },
        "outputId": "4afb2fc8-d169-4f19-ee82-d736af946ebb"
      },
      "source": [
        "ditancia_usu1_todos.sort_values(by=['distancia'])"
      ],
      "execution_count": 36,
      "outputs": [
        {
          "output_type": "execute_result",
          "data": {
            "text/html": [
              "<div>\n",
              "<style scoped>\n",
              "    .dataframe tbody tr th:only-of-type {\n",
              "        vertical-align: middle;\n",
              "    }\n",
              "\n",
              "    .dataframe tbody tr th {\n",
              "        vertical-align: top;\n",
              "    }\n",
              "\n",
              "    .dataframe thead th {\n",
              "        text-align: right;\n",
              "    }\n",
              "</style>\n",
              "<table border=\"1\" class=\"dataframe\">\n",
              "  <thead>\n",
              "    <tr style=\"text-align: right;\">\n",
              "      <th></th>\n",
              "      <th>voce</th>\n",
              "      <th>outro</th>\n",
              "      <th>distancia</th>\n",
              "    </tr>\n",
              "  </thead>\n",
              "  <tbody>\n",
              "    <tr>\n",
              "      <th>0</th>\n",
              "      <td>1</td>\n",
              "      <td>1</td>\n",
              "      <td>0.000000</td>\n",
              "    </tr>\n",
              "    <tr>\n",
              "      <th>396</th>\n",
              "      <td>1</td>\n",
              "      <td>397</td>\n",
              "      <td>0.000000</td>\n",
              "    </tr>\n",
              "    <tr>\n",
              "      <th>495</th>\n",
              "      <td>1</td>\n",
              "      <td>496</td>\n",
              "      <td>0.000000</td>\n",
              "    </tr>\n",
              "    <tr>\n",
              "      <th>305</th>\n",
              "      <td>1</td>\n",
              "      <td>306</td>\n",
              "      <td>0.000000</td>\n",
              "    </tr>\n",
              "    <tr>\n",
              "      <th>290</th>\n",
              "      <td>1</td>\n",
              "      <td>291</td>\n",
              "      <td>0.000000</td>\n",
              "    </tr>\n",
              "    <tr>\n",
              "      <th>...</th>\n",
              "      <td>...</td>\n",
              "      <td>...</td>\n",
              "      <td>...</td>\n",
              "    </tr>\n",
              "    <tr>\n",
              "      <th>473</th>\n",
              "      <td>1</td>\n",
              "      <td>474</td>\n",
              "      <td>18.594354</td>\n",
              "    </tr>\n",
              "    <tr>\n",
              "      <th>159</th>\n",
              "      <td>1</td>\n",
              "      <td>160</td>\n",
              "      <td>18.794946</td>\n",
              "    </tr>\n",
              "    <tr>\n",
              "      <th>216</th>\n",
              "      <td>1</td>\n",
              "      <td>217</td>\n",
              "      <td>19.646883</td>\n",
              "    </tr>\n",
              "    <tr>\n",
              "      <th>598</th>\n",
              "      <td>1</td>\n",
              "      <td>599</td>\n",
              "      <td>19.665960</td>\n",
              "    </tr>\n",
              "    <tr>\n",
              "      <th>67</th>\n",
              "      <td>1</td>\n",
              "      <td>68</td>\n",
              "      <td>21.558061</td>\n",
              "    </tr>\n",
              "  </tbody>\n",
              "</table>\n",
              "<p>610 rows × 3 columns</p>\n",
              "</div>"
            ],
            "text/plain": [
              "     voce  outro  distancia\n",
              "0       1      1   0.000000\n",
              "396     1    397   0.000000\n",
              "495     1    496   0.000000\n",
              "305     1    306   0.000000\n",
              "290     1    291   0.000000\n",
              "..    ...    ...        ...\n",
              "473     1    474  18.594354\n",
              "159     1    160  18.794946\n",
              "216     1    217  19.646883\n",
              "598     1    599  19.665960\n",
              "67      1     68  21.558061\n",
              "\n",
              "[610 rows x 3 columns]"
            ]
          },
          "metadata": {
            "tags": []
          },
          "execution_count": 36
        }
      ]
    },
    {
      "cell_type": "code",
      "metadata": {
        "id": "fPt8Kv8h7Y9R",
        "colab_type": "code",
        "colab": {
          "base_uri": "https://localhost:8080/",
          "height": 254
        },
        "outputId": "0e696b71-1e32-4a03-ab76-61de60a0118f"
      },
      "source": [
        "#usuario que nao tem nada em comum\n",
        "notas_usuario(1).join(notas_usuario(397), lsuffix=\"u_esq\", rsuffix=\"u_dir\").dropna()"
      ],
      "execution_count": 48,
      "outputs": [
        {
          "output_type": "execute_result",
          "data": {
            "text/html": [
              "<div>\n",
              "<style scoped>\n",
              "    .dataframe tbody tr th:only-of-type {\n",
              "        vertical-align: middle;\n",
              "    }\n",
              "\n",
              "    .dataframe tbody tr th {\n",
              "        vertical-align: top;\n",
              "    }\n",
              "\n",
              "    .dataframe thead th {\n",
              "        text-align: right;\n",
              "    }\n",
              "</style>\n",
              "<table border=\"1\" class=\"dataframe\">\n",
              "  <thead>\n",
              "    <tr style=\"text-align: right;\">\n",
              "      <th></th>\n",
              "      <th>notau_esq</th>\n",
              "      <th>notau_dir</th>\n",
              "    </tr>\n",
              "    <tr>\n",
              "      <th>filmeId</th>\n",
              "      <th></th>\n",
              "      <th></th>\n",
              "    </tr>\n",
              "  </thead>\n",
              "  <tbody>\n",
              "    <tr>\n",
              "      <th>260</th>\n",
              "      <td>5.0</td>\n",
              "      <td>5.0</td>\n",
              "    </tr>\n",
              "    <tr>\n",
              "      <th>1196</th>\n",
              "      <td>5.0</td>\n",
              "      <td>5.0</td>\n",
              "    </tr>\n",
              "    <tr>\n",
              "      <th>1198</th>\n",
              "      <td>5.0</td>\n",
              "      <td>5.0</td>\n",
              "    </tr>\n",
              "    <tr>\n",
              "      <th>1210</th>\n",
              "      <td>5.0</td>\n",
              "      <td>5.0</td>\n",
              "    </tr>\n",
              "    <tr>\n",
              "      <th>2571</th>\n",
              "      <td>5.0</td>\n",
              "      <td>5.0</td>\n",
              "    </tr>\n",
              "    <tr>\n",
              "      <th>3578</th>\n",
              "      <td>5.0</td>\n",
              "      <td>5.0</td>\n",
              "    </tr>\n",
              "  </tbody>\n",
              "</table>\n",
              "</div>"
            ],
            "text/plain": [
              "         notau_esq  notau_dir\n",
              "filmeId                      \n",
              "260            5.0        5.0\n",
              "1196           5.0        5.0\n",
              "1198           5.0        5.0\n",
              "1210           5.0        5.0\n",
              "2571           5.0        5.0\n",
              "3578           5.0        5.0"
            ]
          },
          "metadata": {
            "tags": []
          },
          "execution_count": 48
        }
      ]
    },
    {
      "cell_type": "code",
      "metadata": {
        "id": "-ECngVEj9SPs",
        "colab_type": "code",
        "colab": {}
      },
      "source": [
        "#agora usuario que nao tem nada em comum e coloca uma distancia grande\n",
        "def distancia_usuarios(uId1,uId2, minimo=5):\n",
        "  u1N = notas_usuario(uId1)\n",
        "  u2N = notas_usuario(uId2)\n",
        "  diferencas = u1N.join(u2N, lsuffix=\"u_esq\", rsuffix=\"u_dir\").dropna()\n",
        "  \n",
        "  #se a pessoa so viu 5 filmes em comum\n",
        "  if(len(diferencas) < minimo):\n",
        "    return [uId1, uId2, 100000]\n",
        "\n",
        "  distancia_usu1_usu2 = distancia_vetor(diferencas['notau_esq'], diferencas['notau_dir'])\n",
        "  return [uId1, uId2, distancia_usu1_usu2]"
      ],
      "execution_count": 0,
      "outputs": []
    },
    {
      "cell_type": "code",
      "metadata": {
        "id": "OE01TudCgOfW",
        "colab_type": "code",
        "colab": {
          "base_uri": "https://localhost:8080/",
          "height": 195
        },
        "outputId": "393ef7f4-df74-4a7b-eda6-2f65d5347891"
      },
      "source": [
        "ditancia_todos(1).head()"
      ],
      "execution_count": 40,
      "outputs": [
        {
          "output_type": "execute_result",
          "data": {
            "text/html": [
              "<div>\n",
              "<style scoped>\n",
              "    .dataframe tbody tr th:only-of-type {\n",
              "        vertical-align: middle;\n",
              "    }\n",
              "\n",
              "    .dataframe tbody tr th {\n",
              "        vertical-align: top;\n",
              "    }\n",
              "\n",
              "    .dataframe thead th {\n",
              "        text-align: right;\n",
              "    }\n",
              "</style>\n",
              "<table border=\"1\" class=\"dataframe\">\n",
              "  <thead>\n",
              "    <tr style=\"text-align: right;\">\n",
              "      <th></th>\n",
              "      <th>voce</th>\n",
              "      <th>outro</th>\n",
              "      <th>distancia</th>\n",
              "    </tr>\n",
              "  </thead>\n",
              "  <tbody>\n",
              "    <tr>\n",
              "      <th>0</th>\n",
              "      <td>1</td>\n",
              "      <td>1</td>\n",
              "      <td>0.000000</td>\n",
              "    </tr>\n",
              "    <tr>\n",
              "      <th>1</th>\n",
              "      <td>1</td>\n",
              "      <td>2</td>\n",
              "      <td>100000.000000</td>\n",
              "    </tr>\n",
              "    <tr>\n",
              "      <th>2</th>\n",
              "      <td>1</td>\n",
              "      <td>3</td>\n",
              "      <td>8.200610</td>\n",
              "    </tr>\n",
              "    <tr>\n",
              "      <th>3</th>\n",
              "      <td>1</td>\n",
              "      <td>4</td>\n",
              "      <td>11.135529</td>\n",
              "    </tr>\n",
              "    <tr>\n",
              "      <th>4</th>\n",
              "      <td>1</td>\n",
              "      <td>5</td>\n",
              "      <td>3.741657</td>\n",
              "    </tr>\n",
              "  </tbody>\n",
              "</table>\n",
              "</div>"
            ],
            "text/plain": [
              "   voce  outro      distancia\n",
              "0     1      1       0.000000\n",
              "1     1      2  100000.000000\n",
              "2     1      3       8.200610\n",
              "3     1      4      11.135529\n",
              "4     1      5       3.741657"
            ]
          },
          "metadata": {
            "tags": []
          },
          "execution_count": 40
        }
      ]
    },
    {
      "cell_type": "code",
      "metadata": {
        "id": "zLCWbjWjgely",
        "colab_type": "code",
        "colab": {
          "base_uri": "https://localhost:8080/",
          "height": 402
        },
        "outputId": "688db99c-628c-40a0-cd9f-12bef6eb37b1"
      },
      "source": [
        "def mais_proxima(voce_id):\n",
        "  distancias = distancia_todos(voce_id)\n",
        "  distancias = distancias.sort_values(\"distancia\")\n",
        "  distancias.set_index(\"outro\")\n",
        "  distancias.drop(voce_id)\n",
        "  return distancias\n",
        "\n",
        "mais_proxima(1)"
      ],
      "execution_count": 49,
      "outputs": [
        {
          "output_type": "execute_result",
          "data": {
            "text/html": [
              "<div>\n",
              "<style scoped>\n",
              "    .dataframe tbody tr th:only-of-type {\n",
              "        vertical-align: middle;\n",
              "    }\n",
              "\n",
              "    .dataframe tbody tr th {\n",
              "        vertical-align: top;\n",
              "    }\n",
              "\n",
              "    .dataframe thead th {\n",
              "        text-align: right;\n",
              "    }\n",
              "</style>\n",
              "<table border=\"1\" class=\"dataframe\">\n",
              "  <thead>\n",
              "    <tr style=\"text-align: right;\">\n",
              "      <th></th>\n",
              "      <th>voce</th>\n",
              "      <th>outro</th>\n",
              "      <th>distancia</th>\n",
              "    </tr>\n",
              "  </thead>\n",
              "  <tbody>\n",
              "    <tr>\n",
              "      <th>0</th>\n",
              "      <td>1</td>\n",
              "      <td>1</td>\n",
              "      <td>0.000000</td>\n",
              "    </tr>\n",
              "    <tr>\n",
              "      <th>76</th>\n",
              "      <td>1</td>\n",
              "      <td>77</td>\n",
              "      <td>0.000000</td>\n",
              "    </tr>\n",
              "    <tr>\n",
              "      <th>510</th>\n",
              "      <td>1</td>\n",
              "      <td>511</td>\n",
              "      <td>0.500000</td>\n",
              "    </tr>\n",
              "    <tr>\n",
              "      <th>365</th>\n",
              "      <td>1</td>\n",
              "      <td>366</td>\n",
              "      <td>0.707107</td>\n",
              "    </tr>\n",
              "    <tr>\n",
              "      <th>522</th>\n",
              "      <td>1</td>\n",
              "      <td>523</td>\n",
              "      <td>1.000000</td>\n",
              "    </tr>\n",
              "    <tr>\n",
              "      <th>...</th>\n",
              "      <td>...</td>\n",
              "      <td>...</td>\n",
              "      <td>...</td>\n",
              "    </tr>\n",
              "    <tr>\n",
              "      <th>189</th>\n",
              "      <td>1</td>\n",
              "      <td>190</td>\n",
              "      <td>100000.000000</td>\n",
              "    </tr>\n",
              "    <tr>\n",
              "      <th>59</th>\n",
              "      <td>1</td>\n",
              "      <td>60</td>\n",
              "      <td>100000.000000</td>\n",
              "    </tr>\n",
              "    <tr>\n",
              "      <th>575</th>\n",
              "      <td>1</td>\n",
              "      <td>576</td>\n",
              "      <td>100000.000000</td>\n",
              "    </tr>\n",
              "    <tr>\n",
              "      <th>544</th>\n",
              "      <td>1</td>\n",
              "      <td>545</td>\n",
              "      <td>100000.000000</td>\n",
              "    </tr>\n",
              "    <tr>\n",
              "      <th>498</th>\n",
              "      <td>1</td>\n",
              "      <td>499</td>\n",
              "      <td>100000.000000</td>\n",
              "    </tr>\n",
              "  </tbody>\n",
              "</table>\n",
              "<p>610 rows × 3 columns</p>\n",
              "</div>"
            ],
            "text/plain": [
              "     voce  outro      distancia\n",
              "0       1      1       0.000000\n",
              "76      1     77       0.000000\n",
              "510     1    511       0.500000\n",
              "365     1    366       0.707107\n",
              "522     1    523       1.000000\n",
              "..    ...    ...            ...\n",
              "189     1    190  100000.000000\n",
              "59      1     60  100000.000000\n",
              "575     1    576  100000.000000\n",
              "544     1    545  100000.000000\n",
              "498     1    499  100000.000000\n",
              "\n",
              "[610 rows x 3 columns]"
            ]
          },
          "metadata": {
            "tags": []
          },
          "execution_count": 49
        }
      ]
    }
  ]
}